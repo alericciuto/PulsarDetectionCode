{
 "cells": [
  {
   "cell_type": "code",
   "execution_count": 1,
   "id": "structured-bubble",
   "metadata": {},
   "outputs": [
    {
     "name": "stderr",
     "output_type": "stream",
     "text": [
      "\n",
      "Bad key \"text.kerning_factor\" on line 4 in\n",
      "/opt/anaconda3/envs/bigdatalab_cpu_202101/lib/python3.7/site-packages/matplotlib/mpl-data/stylelib/_classic_test_patch.mplstyle.\n",
      "You probably need to get an updated matplotlibrc file from\n",
      "https://github.com/matplotlib/matplotlib/blob/v3.1.2/matplotlibrc.template\n",
      "or from the matplotlib source distribution\n"
     ]
    }
   ],
   "source": [
    "from numpy import inf\n",
    "from classifiers.MultivariateGaussianClassifier import *\n",
    "from classifiers.NaiveBayesClassifier import *\n",
    "from classifiers.TiedCovarianceGaussianClassifier import *\n",
    "from classifiers.TiedDiagCovGaussianClassifier import *\n",
    "from classifiers.LogisticRegression import *\n",
    "from classifiers.LinearSVM import *\n",
    "from classifiers.KernelSVM import *\n",
    "from classifiers.GaussianMixtureModel import *\n",
    "from transformers.PCA import *\n",
    "from transformers.Gaussianizer import *\n",
    "from tabulate import tabulate\n",
    "import concurrent.futures\n",
    "from tqdm import tqdm"
   ]
  },
  {
   "cell_type": "code",
   "execution_count": 2,
   "id": "removed-ivory",
   "metadata": {},
   "outputs": [],
   "source": [
    "DTR, LTR = load_data('./data/Train.txt')\n",
    "DTE, LTE = load_data('./data/Test.txt')\n",
    "priors = numpy.array([0.5, 0.1, 0.9])\n",
    "load_saved = True"
   ]
  },
  {
   "cell_type": "code",
   "execution_count": 3,
   "id": "stupid-edgar",
   "metadata": {},
   "outputs": [
    {
     "name": "stderr",
     "output_type": "stream",
     "text": [
      "  0%|\u001b[32m          \u001b[0m| 0/12 [00:00<?, ?it/s]"
     ]
    },
    {
     "name": "stdout",
     "output_type": "stream",
     "text": [
      "0 - Full-Cov, π = 0.5\n"
     ]
    },
    {
     "name": "stderr",
     "output_type": "stream",
     "text": [
      "  8%|\u001b[32m▊         \u001b[0m| 1/12 [00:15<02:53, 15.75s/it]"
     ]
    },
    {
     "name": "stdout",
     "output_type": "stream",
     "text": [
      "0 - Full-Cov, π = 0.1\n"
     ]
    },
    {
     "name": "stderr",
     "output_type": "stream",
     "text": [
      " 17%|\u001b[32m█▋        \u001b[0m| 2/12 [00:31<02:37, 15.74s/it]"
     ]
    },
    {
     "name": "stdout",
     "output_type": "stream",
     "text": [
      "0 - Full-Cov, π = 0.9\n"
     ]
    },
    {
     "name": "stderr",
     "output_type": "stream",
     "text": [
      " 25%|\u001b[32m██▌       \u001b[0m| 3/12 [00:47<02:21, 15.76s/it]"
     ]
    },
    {
     "name": "stdout",
     "output_type": "stream",
     "text": [
      "0 - Diag-Cov, π = 0.5\n"
     ]
    },
    {
     "name": "stderr",
     "output_type": "stream",
     "text": [
      " 33%|\u001b[32m███▎      \u001b[0m| 4/12 [01:03<02:06, 15.77s/it]"
     ]
    },
    {
     "name": "stdout",
     "output_type": "stream",
     "text": [
      "0 - Diag-Cov, π = 0.1\n"
     ]
    },
    {
     "name": "stderr",
     "output_type": "stream",
     "text": [
      " 42%|\u001b[32m████▏     \u001b[0m| 5/12 [01:18<01:50, 15.76s/it]"
     ]
    },
    {
     "name": "stdout",
     "output_type": "stream",
     "text": [
      "0 - Diag-Cov, π = 0.9\n"
     ]
    },
    {
     "name": "stderr",
     "output_type": "stream",
     "text": [
      " 50%|\u001b[32m█████     \u001b[0m| 6/12 [01:34<01:34, 15.80s/it]"
     ]
    },
    {
     "name": "stdout",
     "output_type": "stream",
     "text": [
      "0 - Tied Full-Cov, π = 0.5\n"
     ]
    },
    {
     "name": "stderr",
     "output_type": "stream",
     "text": [
      " 58%|\u001b[32m█████▊    \u001b[0m| 7/12 [01:50<01:18, 15.78s/it]"
     ]
    },
    {
     "name": "stdout",
     "output_type": "stream",
     "text": [
      "0 - Tied Full-Cov, π = 0.1\n"
     ]
    },
    {
     "name": "stderr",
     "output_type": "stream",
     "text": [
      " 67%|\u001b[32m██████▋   \u001b[0m| 8/12 [02:06<01:02, 15.74s/it]"
     ]
    },
    {
     "name": "stdout",
     "output_type": "stream",
     "text": [
      "0 - Tied Full-Cov, π = 0.9\n"
     ]
    },
    {
     "name": "stderr",
     "output_type": "stream",
     "text": [
      " 75%|\u001b[32m███████▌  \u001b[0m| 9/12 [02:21<00:47, 15.74s/it]"
     ]
    },
    {
     "name": "stdout",
     "output_type": "stream",
     "text": [
      "0 - Tied Diag-Cov, π = 0.5\n"
     ]
    },
    {
     "name": "stderr",
     "output_type": "stream",
     "text": [
      " 83%|\u001b[32m████████▎ \u001b[0m| 10/12 [02:37<00:31, 15.73s/it]"
     ]
    },
    {
     "name": "stdout",
     "output_type": "stream",
     "text": [
      "0 - Tied Diag-Cov, π = 0.1\n"
     ]
    },
    {
     "name": "stderr",
     "output_type": "stream",
     "text": [
      " 92%|\u001b[32m█████████▏\u001b[0m| 11/12 [02:53<00:15, 15.80s/it]"
     ]
    },
    {
     "name": "stdout",
     "output_type": "stream",
     "text": [
      "0 - Tied Diag-Cov, π = 0.9\n"
     ]
    },
    {
     "name": "stderr",
     "output_type": "stream",
     "text": [
      "100%|\u001b[32m██████████\u001b[0m| 12/12 [03:09<00:00, 15.77s/it]\n"
     ]
    },
    {
     "name": "stdout",
     "output_type": "stream",
     "text": [
      "╒═══════════════╤══════════╤══════════╤══════════╕\n",
      "│               │      0.5 │      0.1 │      0.9 │\n",
      "╞═══════════════╪══════════╪══════════╪══════════╡\n",
      "│ Full-Cov      │ 0.15083  │ 0.241895 │ 0.61952  │\n",
      "├───────────────┼──────────┼──────────┼──────────┤\n",
      "│ Diag-Cov      │ 0.154147 │ 0.285351 │ 0.573897 │\n",
      "├───────────────┼──────────┼──────────┼──────────┤\n",
      "│ Tied Full-Cov │ 0.125802 │ 0.222019 │ 0.540344 │\n",
      "├───────────────┼──────────┼──────────┼──────────┤\n",
      "│ Tied Diag-Cov │ 0.158218 │ 0.300612 │ 0.568365 │\n",
      "╘═══════════════╧══════════╧══════════╧══════════╛\n"
     ]
    },
    {
     "name": "stderr",
     "output_type": "stream",
     "text": [
      "  0%|\u001b[32m          \u001b[0m| 0/12 [00:00<?, ?it/s]"
     ]
    },
    {
     "name": "stdout",
     "output_type": "stream",
     "text": [
      "1 - Full-Cov, π = 0.5\n"
     ]
    },
    {
     "name": "stderr",
     "output_type": "stream",
     "text": [
      "  8%|\u001b[32m▊         \u001b[0m| 1/12 [00:15<02:53, 15.77s/it]"
     ]
    },
    {
     "name": "stdout",
     "output_type": "stream",
     "text": [
      "1 - Full-Cov, π = 0.1\n"
     ]
    },
    {
     "name": "stderr",
     "output_type": "stream",
     "text": [
      " 17%|\u001b[32m█▋        \u001b[0m| 2/12 [00:31<02:37, 15.78s/it]"
     ]
    },
    {
     "name": "stdout",
     "output_type": "stream",
     "text": [
      "1 - Full-Cov, π = 0.9\n"
     ]
    },
    {
     "name": "stderr",
     "output_type": "stream",
     "text": [
      " 25%|\u001b[32m██▌       \u001b[0m| 3/12 [00:47<02:22, 15.80s/it]"
     ]
    },
    {
     "name": "stdout",
     "output_type": "stream",
     "text": [
      "1 - Diag-Cov, π = 0.5\n"
     ]
    },
    {
     "name": "stderr",
     "output_type": "stream",
     "text": [
      " 33%|\u001b[32m███▎      \u001b[0m| 4/12 [01:03<02:06, 15.79s/it]"
     ]
    },
    {
     "name": "stdout",
     "output_type": "stream",
     "text": [
      "1 - Diag-Cov, π = 0.1\n"
     ]
    },
    {
     "name": "stderr",
     "output_type": "stream",
     "text": [
      " 42%|\u001b[32m████▏     \u001b[0m| 5/12 [01:18<01:50, 15.73s/it]"
     ]
    },
    {
     "name": "stdout",
     "output_type": "stream",
     "text": [
      "1 - Diag-Cov, π = 0.9\n"
     ]
    },
    {
     "name": "stderr",
     "output_type": "stream",
     "text": [
      " 50%|\u001b[32m█████     \u001b[0m| 6/12 [01:34<01:34, 15.73s/it]"
     ]
    },
    {
     "name": "stdout",
     "output_type": "stream",
     "text": [
      "1 - Tied Full-Cov, π = 0.5\n"
     ]
    },
    {
     "name": "stderr",
     "output_type": "stream",
     "text": [
      " 58%|\u001b[32m█████▊    \u001b[0m| 7/12 [01:50<01:18, 15.73s/it]"
     ]
    },
    {
     "name": "stdout",
     "output_type": "stream",
     "text": [
      "1 - Tied Full-Cov, π = 0.1\n"
     ]
    },
    {
     "name": "stderr",
     "output_type": "stream",
     "text": [
      " 67%|\u001b[32m██████▋   \u001b[0m| 8/12 [02:05<01:02, 15.74s/it]"
     ]
    },
    {
     "name": "stdout",
     "output_type": "stream",
     "text": [
      "1 - Tied Full-Cov, π = 0.9\n"
     ]
    },
    {
     "name": "stderr",
     "output_type": "stream",
     "text": [
      " 75%|\u001b[32m███████▌  \u001b[0m| 9/12 [02:21<00:47, 15.73s/it]"
     ]
    },
    {
     "name": "stdout",
     "output_type": "stream",
     "text": [
      "1 - Tied Diag-Cov, π = 0.5\n"
     ]
    },
    {
     "name": "stderr",
     "output_type": "stream",
     "text": [
      " 83%|\u001b[32m████████▎ \u001b[0m| 10/12 [02:37<00:31, 15.74s/it]"
     ]
    },
    {
     "name": "stdout",
     "output_type": "stream",
     "text": [
      "1 - Tied Diag-Cov, π = 0.1\n"
     ]
    },
    {
     "name": "stderr",
     "output_type": "stream",
     "text": [
      " 92%|\u001b[32m█████████▏\u001b[0m| 11/12 [02:53<00:15, 15.81s/it]"
     ]
    },
    {
     "name": "stdout",
     "output_type": "stream",
     "text": [
      "1 - Tied Diag-Cov, π = 0.9\n"
     ]
    },
    {
     "name": "stderr",
     "output_type": "stream",
     "text": [
      "100%|\u001b[32m██████████\u001b[0m| 12/12 [03:09<00:00, 15.80s/it]\n"
     ]
    },
    {
     "name": "stdout",
     "output_type": "stream",
     "text": [
      "╒═══════════════╤══════════╤══════════╤══════════╕\n",
      "│               │      0.5 │      0.1 │      0.9 │\n",
      "╞═══════════════╪══════════╪══════════╪══════════╡\n",
      "│ Full-Cov      │ 0.164531 │ 0.410279 │ 0.649131 │\n",
      "├───────────────┼──────────┼──────────┼──────────┤\n",
      "│ Diag-Cov      │ 0.200281 │ 0.420179 │ 0.632976 │\n",
      "├───────────────┼──────────┼──────────┼──────────┤\n",
      "│ Tied Full-Cov │ 0.195764 │ 0.307003 │ 0.715563 │\n",
      "├───────────────┼──────────┼──────────┼──────────┤\n",
      "│ Tied Diag-Cov │ 0.15884  │ 0.293437 │ 0.606304 │\n",
      "╘═══════════════╧══════════╧══════════╧══════════╛\n"
     ]
    },
    {
     "name": "stderr",
     "output_type": "stream",
     "text": [
      "  0%|\u001b[32m          \u001b[0m| 0/12 [00:00<?, ?it/s]"
     ]
    },
    {
     "name": "stdout",
     "output_type": "stream",
     "text": [
      "2 - Full-Cov, π = 0.5\n"
     ]
    },
    {
     "name": "stderr",
     "output_type": "stream",
     "text": [
      "  8%|\u001b[32m▊         \u001b[0m| 1/12 [00:15<02:52, 15.69s/it]"
     ]
    },
    {
     "name": "stdout",
     "output_type": "stream",
     "text": [
      "2 - Full-Cov, π = 0.1\n"
     ]
    },
    {
     "name": "stderr",
     "output_type": "stream",
     "text": [
      " 17%|\u001b[32m█▋        \u001b[0m| 2/12 [00:31<02:36, 15.69s/it]"
     ]
    },
    {
     "name": "stdout",
     "output_type": "stream",
     "text": [
      "2 - Full-Cov, π = 0.9\n"
     ]
    },
    {
     "name": "stderr",
     "output_type": "stream",
     "text": [
      " 25%|\u001b[32m██▌       \u001b[0m| 3/12 [00:47<02:21, 15.70s/it]"
     ]
    },
    {
     "name": "stdout",
     "output_type": "stream",
     "text": [
      "2 - Diag-Cov, π = 0.5\n"
     ]
    },
    {
     "name": "stderr",
     "output_type": "stream",
     "text": [
      " 33%|\u001b[32m███▎      \u001b[0m| 4/12 [01:03<02:06, 15.83s/it]"
     ]
    },
    {
     "name": "stdout",
     "output_type": "stream",
     "text": [
      "2 - Diag-Cov, π = 0.1\n"
     ]
    },
    {
     "name": "stderr",
     "output_type": "stream",
     "text": [
      " 42%|\u001b[32m████▏     \u001b[0m| 5/12 [01:19<01:50, 15.84s/it]"
     ]
    },
    {
     "name": "stdout",
     "output_type": "stream",
     "text": [
      "2 - Diag-Cov, π = 0.9\n"
     ]
    },
    {
     "name": "stderr",
     "output_type": "stream",
     "text": [
      " 50%|\u001b[32m█████     \u001b[0m| 6/12 [01:34<01:34, 15.82s/it]"
     ]
    },
    {
     "name": "stdout",
     "output_type": "stream",
     "text": [
      "2 - Tied Full-Cov, π = 0.5\n"
     ]
    },
    {
     "name": "stderr",
     "output_type": "stream",
     "text": [
      " 58%|\u001b[32m█████▊    \u001b[0m| 7/12 [01:50<01:19, 15.85s/it]"
     ]
    },
    {
     "name": "stdout",
     "output_type": "stream",
     "text": [
      "2 - Tied Full-Cov, π = 0.1\n"
     ]
    },
    {
     "name": "stderr",
     "output_type": "stream",
     "text": [
      " 67%|\u001b[32m██████▋   \u001b[0m| 8/12 [02:06<01:03, 15.91s/it]"
     ]
    },
    {
     "name": "stdout",
     "output_type": "stream",
     "text": [
      "2 - Tied Full-Cov, π = 0.9\n"
     ]
    },
    {
     "name": "stderr",
     "output_type": "stream",
     "text": [
      " 75%|\u001b[32m███████▌  \u001b[0m| 9/12 [02:23<00:48, 16.24s/it]"
     ]
    },
    {
     "name": "stdout",
     "output_type": "stream",
     "text": [
      "2 - Tied Diag-Cov, π = 0.5\n"
     ]
    },
    {
     "name": "stderr",
     "output_type": "stream",
     "text": [
      " 83%|\u001b[32m████████▎ \u001b[0m| 10/12 [02:39<00:32, 16.15s/it]"
     ]
    },
    {
     "name": "stdout",
     "output_type": "stream",
     "text": [
      "2 - Tied Diag-Cov, π = 0.1\n"
     ]
    },
    {
     "name": "stderr",
     "output_type": "stream",
     "text": [
      " 92%|\u001b[32m█████████▏\u001b[0m| 11/12 [02:55<00:16, 16.11s/it]"
     ]
    },
    {
     "name": "stdout",
     "output_type": "stream",
     "text": [
      "2 - Tied Diag-Cov, π = 0.9\n"
     ]
    },
    {
     "name": "stderr",
     "output_type": "stream",
     "text": [
      "100%|\u001b[32m██████████\u001b[0m| 12/12 [03:11<00:00, 15.98s/it]\n"
     ]
    },
    {
     "name": "stdout",
     "output_type": "stream",
     "text": [
      "╒═══════════════╤══════════╤══════════╤══════════╕\n",
      "│               │      0.5 │      0.1 │      0.9 │\n",
      "╞═══════════════╪══════════╪══════════╪══════════╡\n",
      "│ Full-Cov      │ 0.157065 │ 0.433151 │ 0.639763 │\n",
      "├───────────────┼──────────┼──────────┼──────────┤\n",
      "│ Diag-Cov      │ 0.19919  │ 0.440291 │ 0.627009 │\n",
      "├───────────────┼──────────┼──────────┼──────────┤\n",
      "│ Tied Full-Cov │ 0.194656 │ 0.306293 │ 0.704483 │\n",
      "├───────────────┼──────────┼──────────┼──────────┤\n",
      "│ Tied Diag-Cov │ 0.156982 │ 0.29391  │ 0.581678 │\n",
      "╘═══════════════╧══════════╧══════════╧══════════╛\n"
     ]
    },
    {
     "name": "stderr",
     "output_type": "stream",
     "text": [
      "  0%|\u001b[32m          \u001b[0m| 0/12 [00:00<?, ?it/s]"
     ]
    },
    {
     "name": "stdout",
     "output_type": "stream",
     "text": [
      "3 - Full-Cov, π = 0.5\n"
     ]
    },
    {
     "name": "stderr",
     "output_type": "stream",
     "text": [
      "  8%|\u001b[32m▊         \u001b[0m| 1/12 [00:16<02:56, 16.00s/it]"
     ]
    },
    {
     "name": "stdout",
     "output_type": "stream",
     "text": [
      "3 - Full-Cov, π = 0.1\n"
     ]
    },
    {
     "name": "stderr",
     "output_type": "stream",
     "text": [
      " 17%|\u001b[32m█▋        \u001b[0m| 2/12 [00:31<02:39, 15.99s/it]"
     ]
    },
    {
     "name": "stdout",
     "output_type": "stream",
     "text": [
      "3 - Full-Cov, π = 0.9\n"
     ]
    },
    {
     "name": "stderr",
     "output_type": "stream",
     "text": [
      " 25%|\u001b[32m██▌       \u001b[0m| 3/12 [00:49<02:29, 16.59s/it]"
     ]
    },
    {
     "name": "stdout",
     "output_type": "stream",
     "text": [
      "3 - Diag-Cov, π = 0.5\n"
     ]
    },
    {
     "name": "stderr",
     "output_type": "stream",
     "text": [
      " 33%|\u001b[32m███▎      \u001b[0m| 4/12 [01:05<02:11, 16.40s/it]"
     ]
    },
    {
     "name": "stdout",
     "output_type": "stream",
     "text": [
      "3 - Diag-Cov, π = 0.1\n"
     ]
    },
    {
     "name": "stderr",
     "output_type": "stream",
     "text": [
      " 42%|\u001b[32m████▏     \u001b[0m| 5/12 [01:22<01:54, 16.42s/it]"
     ]
    },
    {
     "name": "stdout",
     "output_type": "stream",
     "text": [
      "3 - Diag-Cov, π = 0.9\n"
     ]
    },
    {
     "name": "stderr",
     "output_type": "stream",
     "text": [
      " 50%|\u001b[32m█████     \u001b[0m| 6/12 [01:38<01:38, 16.35s/it]"
     ]
    },
    {
     "name": "stdout",
     "output_type": "stream",
     "text": [
      "3 - Tied Full-Cov, π = 0.5\n"
     ]
    },
    {
     "name": "stderr",
     "output_type": "stream",
     "text": [
      " 58%|\u001b[32m█████▊    \u001b[0m| 7/12 [01:54<01:21, 16.31s/it]"
     ]
    },
    {
     "name": "stdout",
     "output_type": "stream",
     "text": [
      "3 - Tied Full-Cov, π = 0.1\n"
     ]
    },
    {
     "name": "stderr",
     "output_type": "stream",
     "text": [
      " 67%|\u001b[32m██████▋   \u001b[0m| 8/12 [02:11<01:05, 16.30s/it]"
     ]
    },
    {
     "name": "stdout",
     "output_type": "stream",
     "text": [
      "3 - Tied Full-Cov, π = 0.9\n"
     ]
    },
    {
     "name": "stderr",
     "output_type": "stream",
     "text": [
      " 75%|\u001b[32m███████▌  \u001b[0m| 9/12 [02:26<00:48, 16.15s/it]"
     ]
    },
    {
     "name": "stdout",
     "output_type": "stream",
     "text": [
      "3 - Tied Diag-Cov, π = 0.5\n"
     ]
    },
    {
     "name": "stderr",
     "output_type": "stream",
     "text": [
      " 83%|\u001b[32m████████▎ \u001b[0m| 10/12 [02:42<00:32, 16.06s/it]"
     ]
    },
    {
     "name": "stdout",
     "output_type": "stream",
     "text": [
      "3 - Tied Diag-Cov, π = 0.1\n"
     ]
    },
    {
     "name": "stderr",
     "output_type": "stream",
     "text": [
      " 92%|\u001b[32m█████████▏\u001b[0m| 11/12 [02:59<00:16, 16.20s/it]"
     ]
    },
    {
     "name": "stdout",
     "output_type": "stream",
     "text": [
      "3 - Tied Diag-Cov, π = 0.9\n"
     ]
    },
    {
     "name": "stderr",
     "output_type": "stream",
     "text": [
      "100%|\u001b[32m██████████\u001b[0m| 12/12 [03:17<00:00, 16.46s/it]\n",
      "  0%|\u001b[32m          \u001b[0m| 0/12 [00:00<?, ?it/s]"
     ]
    },
    {
     "name": "stdout",
     "output_type": "stream",
     "text": [
      "╒═══════════════╤══════════╤══════════╤══════════╕\n",
      "│               │      0.5 │      0.1 │      0.9 │\n",
      "╞═══════════════╪══════════╪══════════╪══════════╡\n",
      "│ Full-Cov      │ 0.16762  │ 0.428972 │ 0.699977 │\n",
      "├───────────────┼──────────┼──────────┼──────────┤\n",
      "│ Diag-Cov      │ 0.188792 │ 0.369625 │ 0.622341 │\n",
      "├───────────────┼──────────┼──────────┼──────────┤\n",
      "│ Tied Full-Cov │ 0.178991 │ 0.314416 │ 0.592445 │\n",
      "├───────────────┼──────────┼──────────┼──────────┤\n",
      "│ Tied Diag-Cov │ 0.16192  │ 0.305307 │ 0.587282 │\n",
      "╘═══════════════╧══════════╧══════════╧══════════╛\n",
      "4 - Full-Cov, π = 0.5\n"
     ]
    },
    {
     "name": "stderr",
     "output_type": "stream",
     "text": [
      "  8%|\u001b[32m▊         \u001b[0m| 1/12 [00:15<02:55, 15.97s/it]"
     ]
    },
    {
     "name": "stdout",
     "output_type": "stream",
     "text": [
      "4 - Full-Cov, π = 0.1\n"
     ]
    },
    {
     "name": "stderr",
     "output_type": "stream",
     "text": [
      " 17%|\u001b[32m█▋        \u001b[0m| 2/12 [00:31<02:39, 15.94s/it]"
     ]
    },
    {
     "name": "stdout",
     "output_type": "stream",
     "text": [
      "4 - Full-Cov, π = 0.9\n"
     ]
    },
    {
     "name": "stderr",
     "output_type": "stream",
     "text": [
      " 25%|\u001b[32m██▌       \u001b[0m| 3/12 [00:50<02:31, 16.88s/it]"
     ]
    },
    {
     "name": "stdout",
     "output_type": "stream",
     "text": [
      "4 - Diag-Cov, π = 0.5\n"
     ]
    },
    {
     "name": "stderr",
     "output_type": "stream",
     "text": [
      " 33%|\u001b[32m███▎      \u001b[0m| 4/12 [01:06<02:12, 16.61s/it]"
     ]
    },
    {
     "name": "stdout",
     "output_type": "stream",
     "text": [
      "4 - Diag-Cov, π = 0.1\n"
     ]
    },
    {
     "name": "stderr",
     "output_type": "stream",
     "text": [
      " 42%|\u001b[32m████▏     \u001b[0m| 5/12 [01:22<01:54, 16.42s/it]"
     ]
    },
    {
     "name": "stdout",
     "output_type": "stream",
     "text": [
      "4 - Diag-Cov, π = 0.9\n"
     ]
    },
    {
     "name": "stderr",
     "output_type": "stream",
     "text": [
      " 50%|\u001b[32m█████     \u001b[0m| 6/12 [01:39<01:38, 16.41s/it]"
     ]
    },
    {
     "name": "stdout",
     "output_type": "stream",
     "text": [
      "4 - Tied Full-Cov, π = 0.5\n"
     ]
    },
    {
     "name": "stderr",
     "output_type": "stream",
     "text": [
      " 58%|\u001b[32m█████▊    \u001b[0m| 7/12 [01:55<01:21, 16.27s/it]"
     ]
    },
    {
     "name": "stdout",
     "output_type": "stream",
     "text": [
      "4 - Tied Full-Cov, π = 0.1\n"
     ]
    },
    {
     "name": "stderr",
     "output_type": "stream",
     "text": [
      " 67%|\u001b[32m██████▋   \u001b[0m| 8/12 [02:11<01:04, 16.14s/it]"
     ]
    },
    {
     "name": "stdout",
     "output_type": "stream",
     "text": [
      "4 - Tied Full-Cov, π = 0.9\n"
     ]
    },
    {
     "name": "stderr",
     "output_type": "stream",
     "text": [
      " 75%|\u001b[32m███████▌  \u001b[0m| 9/12 [02:27<00:48, 16.09s/it]"
     ]
    },
    {
     "name": "stdout",
     "output_type": "stream",
     "text": [
      "4 - Tied Diag-Cov, π = 0.5\n"
     ]
    },
    {
     "name": "stderr",
     "output_type": "stream",
     "text": [
      " 83%|\u001b[32m████████▎ \u001b[0m| 10/12 [02:46<00:34, 17.06s/it]"
     ]
    },
    {
     "name": "stdout",
     "output_type": "stream",
     "text": [
      "4 - Tied Diag-Cov, π = 0.1\n"
     ]
    },
    {
     "name": "stderr",
     "output_type": "stream",
     "text": [
      " 92%|\u001b[32m█████████▏\u001b[0m| 11/12 [03:02<00:16, 16.72s/it]"
     ]
    },
    {
     "name": "stdout",
     "output_type": "stream",
     "text": [
      "4 - Tied Diag-Cov, π = 0.9\n"
     ]
    },
    {
     "name": "stderr",
     "output_type": "stream",
     "text": [
      "100%|\u001b[32m██████████\u001b[0m| 12/12 [03:18<00:00, 16.52s/it]\n",
      "  0%|\u001b[32m          \u001b[0m| 0/12 [00:00<?, ?it/s]"
     ]
    },
    {
     "name": "stdout",
     "output_type": "stream",
     "text": [
      "╒═══════════════╤══════════╤══════════╤══════════╕\n",
      "│               │      0.5 │      0.1 │      0.9 │\n",
      "╞═══════════════╪══════════╪══════════╪══════════╡\n",
      "│ Full-Cov      │ 0.140498 │ 0.282708 │ 0.645683 │\n",
      "├───────────────┼──────────┼──────────┼──────────┤\n",
      "│ Diag-Cov      │ 0.184963 │ 0.329677 │ 0.620595 │\n",
      "├───────────────┼──────────┼──────────┼──────────┤\n",
      "│ Tied Full-Cov │ 0.109502 │ 0.207191 │ 0.590616 │\n",
      "├───────────────┼──────────┼──────────┼──────────┤\n",
      "│ Tied Diag-Cov │ 0.151584 │ 0.26244  │ 0.543735 │\n",
      "╘═══════════════╧══════════╧══════════╧══════════╛\n",
      "5 - Full-Cov, π = 0.5\n"
     ]
    },
    {
     "name": "stderr",
     "output_type": "stream",
     "text": [
      "  8%|\u001b[32m▊         \u001b[0m| 1/12 [00:16<02:56, 16.01s/it]"
     ]
    },
    {
     "name": "stdout",
     "output_type": "stream",
     "text": [
      "5 - Full-Cov, π = 0.1\n"
     ]
    },
    {
     "name": "stderr",
     "output_type": "stream",
     "text": [
      " 17%|\u001b[32m█▋        \u001b[0m| 2/12 [00:36<02:54, 17.41s/it]"
     ]
    },
    {
     "name": "stdout",
     "output_type": "stream",
     "text": [
      "5 - Full-Cov, π = 0.9\n"
     ]
    },
    {
     "name": "stderr",
     "output_type": "stream",
     "text": [
      " 25%|\u001b[32m██▌       \u001b[0m| 3/12 [00:54<02:36, 17.40s/it]"
     ]
    },
    {
     "name": "stdout",
     "output_type": "stream",
     "text": [
      "5 - Diag-Cov, π = 0.5\n"
     ]
    },
    {
     "name": "stderr",
     "output_type": "stream",
     "text": [
      " 33%|\u001b[32m███▎      \u001b[0m| 4/12 [01:10<02:15, 16.96s/it]"
     ]
    },
    {
     "name": "stdout",
     "output_type": "stream",
     "text": [
      "5 - Diag-Cov, π = 0.1\n"
     ]
    },
    {
     "name": "stderr",
     "output_type": "stream",
     "text": [
      " 42%|\u001b[32m████▏     \u001b[0m| 5/12 [01:26<01:57, 16.78s/it]"
     ]
    },
    {
     "name": "stdout",
     "output_type": "stream",
     "text": [
      "5 - Diag-Cov, π = 0.9\n"
     ]
    },
    {
     "name": "stderr",
     "output_type": "stream",
     "text": [
      " 50%|\u001b[32m█████     \u001b[0m| 6/12 [01:46<01:47, 17.92s/it]"
     ]
    },
    {
     "name": "stdout",
     "output_type": "stream",
     "text": [
      "5 - Tied Full-Cov, π = 0.5\n"
     ]
    },
    {
     "name": "stderr",
     "output_type": "stream",
     "text": [
      " 58%|\u001b[32m█████▊    \u001b[0m| 7/12 [02:03<01:27, 17.52s/it]"
     ]
    },
    {
     "name": "stdout",
     "output_type": "stream",
     "text": [
      "5 - Tied Full-Cov, π = 0.1\n"
     ]
    },
    {
     "name": "stderr",
     "output_type": "stream",
     "text": [
      " 67%|\u001b[32m██████▋   \u001b[0m| 8/12 [02:19<01:08, 17.04s/it]"
     ]
    },
    {
     "name": "stdout",
     "output_type": "stream",
     "text": [
      "5 - Tied Full-Cov, π = 0.9\n"
     ]
    },
    {
     "name": "stderr",
     "output_type": "stream",
     "text": [
      " 75%|\u001b[32m███████▌  \u001b[0m| 9/12 [02:35<00:50, 16.74s/it]"
     ]
    },
    {
     "name": "stdout",
     "output_type": "stream",
     "text": [
      "5 - Tied Diag-Cov, π = 0.5\n"
     ]
    },
    {
     "name": "stderr",
     "output_type": "stream",
     "text": [
      " 83%|\u001b[32m████████▎ \u001b[0m| 10/12 [02:51<00:33, 16.60s/it]"
     ]
    },
    {
     "name": "stdout",
     "output_type": "stream",
     "text": [
      "5 - Tied Diag-Cov, π = 0.1\n"
     ]
    },
    {
     "name": "stderr",
     "output_type": "stream",
     "text": [
      " 92%|\u001b[32m█████████▏\u001b[0m| 11/12 [03:11<00:17, 17.48s/it]"
     ]
    },
    {
     "name": "stdout",
     "output_type": "stream",
     "text": [
      "5 - Tied Diag-Cov, π = 0.9\n"
     ]
    },
    {
     "name": "stderr",
     "output_type": "stream",
     "text": [
      "100%|\u001b[32m██████████\u001b[0m| 12/12 [03:29<00:00, 17.48s/it]"
     ]
    },
    {
     "name": "stdout",
     "output_type": "stream",
     "text": [
      "╒═══════════════╤══════════╤══════════╤══════════╕\n",
      "│               │      0.5 │      0.1 │      0.9 │\n",
      "╞═══════════════╪══════════╪══════════╪══════════╡\n",
      "│ Full-Cov      │ 0.161153 │ 0.301481 │ 0.66354  │\n",
      "├───────────────┼──────────┼──────────┼──────────┤\n",
      "│ Diag-Cov      │ 0.21676  │ 0.625871 │ 0.677682 │\n",
      "├───────────────┼──────────┼──────────┼──────────┤\n",
      "│ Tied Full-Cov │ 0.147421 │ 0.268    │ 0.622435 │\n",
      "├───────────────┼──────────┼──────────┼──────────┤\n",
      "│ Tied Diag-Cov │ 0.163239 │ 0.308499 │ 0.630919 │\n",
      "╘═══════════════╧══════════╧══════════╧══════════╛\n"
     ]
    },
    {
     "name": "stderr",
     "output_type": "stream",
     "text": [
      "\n"
     ]
    }
   ],
   "source": [
    "#####################################################################################\n",
    "# Gaussian Models\n",
    "#####################################################################################\n",
    "\n",
    "classifier_name = numpy.array([\n",
    "    'Full-Cov',\n",
    "    'Diag-Cov',\n",
    "    'Tied Full-Cov',\n",
    "    'Tied Diag-Cov'\n",
    "])\n",
    "classifiers = numpy.array([\n",
    "    MultivariateGaussianClassifier,\n",
    "    NaiveBayesClassifier,\n",
    "    TiedCovarianceGaussianClassifier,\n",
    "    TiedDiagCovGaussianClassifier\n",
    "])\n",
    "transformers = [\n",
    "    [Gaussianizer],\n",
    "    [PCA, Gaussianizer],\n",
    "    [PCA, Gaussianizer],\n",
    "    [PCA, Gaussianizer],\n",
    "    [],\n",
    "    [PCA]\n",
    "]\n",
    "transf_args = [\n",
    "    [()],\n",
    "    [(7,), ()],\n",
    "    [(6,), ()],\n",
    "    [(5,), ()],\n",
    "    [()],\n",
    "    [(7,)]\n",
    "]\n",
    "mindcf = numpy.zeros((len(transformers), classifiers.shape[0], priors.shape[0]))\n",
    "llr = numpy.zeros((len(transformers), classifiers.shape[0], priors.shape[0], DTE.shape[1]))\n",
    "\n",
    "if load_saved:\n",
    "    mindcf = numpy.load('./data/evaluation/minDCF_GAU_models.npy')\n",
    "\n",
    "for t, Ts in enumerate(transformers):\n",
    "    if not load_saved:\n",
    "        DTrain = DTR\n",
    "        DTest = DTE\n",
    "        for i, Tc in enumerate(Ts):\n",
    "            T = Tc().fit(DTrain, *transf_args[t][i])\n",
    "            DTrain = T.transform(DTrain)\n",
    "            DTest = T.transform(DTest)\n",
    "        with tqdm(total=classifiers.shape[0] * priors.shape[0], colour='green') as progress:\n",
    "            for c, C in enumerate(classifiers):\n",
    "                for p, P in enumerate(priors):\n",
    "                    print(str(t) + \" - \" + classifier_name[c] + \", π = \" + str(P))\n",
    "                    llr[t, c, p] = C(DTrain, LTR).llr(DTest)\n",
    "                    mindcf[t, c, p] = min_DCF(llr[t, c, p], LTE, P, 1, 1)\n",
    "                    progress.update()\n",
    "    table = numpy.hstack((vcol(classifier_name), mindcf[t]))\n",
    "    print(tabulate(table, headers=[\"\"] + list(priors), tablefmt='fancy_grid'))\n",
    "\n",
    "numpy.save('./data/evaluation/minDCF_GAU_models', mindcf)"
   ]
  },
  {
   "cell_type": "code",
   "execution_count": 3,
   "id": "stuck-radiation",
   "metadata": {},
   "outputs": [
    {
     "name": "stderr",
     "output_type": "stream",
     "text": [
      "  0%|\u001b[32m          \u001b[0m| 0/55 [00:00<?, ?it/s]"
     ]
    },
    {
     "name": "stdout",
     "output_type": "stream",
     "text": [
      "0 - Logistic Regression, π = [0.5 0.1 0.9], λ = 1e-06\n"
     ]
    },
    {
     "name": "stderr",
     "output_type": "stream",
     "text": [
      "  2%|\u001b[32m▏         \u001b[0m| 1/55 [00:55<50:00, 55.56s/it]"
     ]
    },
    {
     "name": "stdout",
     "output_type": "stream",
     "text": [
      "0 - Logistic Regression, π = [0.5 0.1 0.9], λ = 3.2500000000000002e-06\n"
     ]
    },
    {
     "name": "stderr",
     "output_type": "stream",
     "text": [
      "  4%|\u001b[32m▎         \u001b[0m| 2/55 [01:45<47:42, 54.01s/it]"
     ]
    },
    {
     "name": "stdout",
     "output_type": "stream",
     "text": [
      "0 - Logistic Regression, π = [0.5 0.1 0.9], λ = 5.5e-06\n"
     ]
    },
    {
     "name": "stderr",
     "output_type": "stream",
     "text": [
      "  5%|\u001b[32m▌         \u001b[0m| 3/55 [02:39<46:38, 53.83s/it]"
     ]
    },
    {
     "name": "stdout",
     "output_type": "stream",
     "text": [
      "0 - Logistic Regression, π = [0.5 0.1 0.9], λ = 7.75e-06\n"
     ]
    },
    {
     "name": "stderr",
     "output_type": "stream",
     "text": [
      "  7%|\u001b[32m▋         \u001b[0m| 4/55 [03:30<45:08, 53.10s/it]"
     ]
    },
    {
     "name": "stdout",
     "output_type": "stream",
     "text": [
      "0 - Logistic Regression, π = [0.5 0.1 0.9], λ = 1e-05\n"
     ]
    },
    {
     "name": "stderr",
     "output_type": "stream",
     "text": [
      "  9%|\u001b[32m▉         \u001b[0m| 5/55 [04:22<43:50, 52.61s/it]"
     ]
    },
    {
     "name": "stdout",
     "output_type": "stream",
     "text": [
      "0 - Logistic Regression, π = [0.5 0.1 0.9], λ = 1e-05\n"
     ]
    },
    {
     "name": "stderr",
     "output_type": "stream",
     "text": [
      " 11%|\u001b[32m█         \u001b[0m| 6/55 [05:14<42:50, 52.46s/it]"
     ]
    },
    {
     "name": "stdout",
     "output_type": "stream",
     "text": [
      "0 - Logistic Regression, π = [0.5 0.1 0.9], λ = 3.2500000000000004e-05\n"
     ]
    },
    {
     "name": "stderr",
     "output_type": "stream",
     "text": [
      " 13%|\u001b[32m█▎        \u001b[0m| 7/55 [06:06<41:54, 52.38s/it]"
     ]
    },
    {
     "name": "stdout",
     "output_type": "stream",
     "text": [
      "0 - Logistic Regression, π = [0.5 0.1 0.9], λ = 5.5e-05\n"
     ]
    },
    {
     "name": "stderr",
     "output_type": "stream",
     "text": [
      " 15%|\u001b[32m█▍        \u001b[0m| 8/55 [06:59<41:10, 52.55s/it]"
     ]
    },
    {
     "name": "stdout",
     "output_type": "stream",
     "text": [
      "0 - Logistic Regression, π = [0.5 0.1 0.9], λ = 7.75e-05\n"
     ]
    },
    {
     "name": "stderr",
     "output_type": "stream",
     "text": [
      " 16%|\u001b[32m█▋        \u001b[0m| 9/55 [07:52<40:29, 52.81s/it]"
     ]
    },
    {
     "name": "stdout",
     "output_type": "stream",
     "text": [
      "0 - Logistic Regression, π = [0.5 0.1 0.9], λ = 0.0001\n"
     ]
    },
    {
     "name": "stderr",
     "output_type": "stream",
     "text": [
      " 18%|\u001b[32m█▊        \u001b[0m| 10/55 [08:47<40:06, 53.48s/it]"
     ]
    },
    {
     "name": "stdout",
     "output_type": "stream",
     "text": [
      "0 - Logistic Regression, π = [0.5 0.1 0.9], λ = 0.0001\n"
     ]
    },
    {
     "name": "stderr",
     "output_type": "stream",
     "text": [
      " 20%|\u001b[32m██        \u001b[0m| 11/55 [09:40<38:56, 53.10s/it]"
     ]
    },
    {
     "name": "stdout",
     "output_type": "stream",
     "text": [
      "0 - Logistic Regression, π = [0.5 0.1 0.9], λ = 0.000325\n"
     ]
    },
    {
     "name": "stderr",
     "output_type": "stream",
     "text": [
      " 22%|\u001b[32m██▏       \u001b[0m| 12/55 [10:34<38:24, 53.60s/it]"
     ]
    },
    {
     "name": "stdout",
     "output_type": "stream",
     "text": [
      "0 - Logistic Regression, π = [0.5 0.1 0.9], λ = 0.00055\n"
     ]
    },
    {
     "name": "stderr",
     "output_type": "stream",
     "text": [
      " 24%|\u001b[32m██▎       \u001b[0m| 13/55 [11:27<37:14, 53.21s/it]"
     ]
    },
    {
     "name": "stdout",
     "output_type": "stream",
     "text": [
      "0 - Logistic Regression, π = [0.5 0.1 0.9], λ = 0.0007750000000000001\n"
     ]
    },
    {
     "name": "stderr",
     "output_type": "stream",
     "text": [
      " 25%|\u001b[32m██▌       \u001b[0m| 14/55 [12:19<36:14, 53.03s/it]"
     ]
    },
    {
     "name": "stdout",
     "output_type": "stream",
     "text": [
      "0 - Logistic Regression, π = [0.5 0.1 0.9], λ = 0.001\n"
     ]
    },
    {
     "name": "stderr",
     "output_type": "stream",
     "text": [
      " 27%|\u001b[32m██▋       \u001b[0m| 15/55 [13:11<35:05, 52.63s/it]"
     ]
    },
    {
     "name": "stdout",
     "output_type": "stream",
     "text": [
      "0 - Logistic Regression, π = [0.5 0.1 0.9], λ = 0.001\n"
     ]
    },
    {
     "name": "stderr",
     "output_type": "stream",
     "text": [
      " 29%|\u001b[32m██▉       \u001b[0m| 16/55 [14:05<34:27, 53.00s/it]"
     ]
    },
    {
     "name": "stdout",
     "output_type": "stream",
     "text": [
      "0 - Logistic Regression, π = [0.5 0.1 0.9], λ = 0.0032500000000000003\n"
     ]
    },
    {
     "name": "stderr",
     "output_type": "stream",
     "text": [
      " 31%|\u001b[32m███       \u001b[0m| 17/55 [14:55<33:02, 52.18s/it]"
     ]
    },
    {
     "name": "stdout",
     "output_type": "stream",
     "text": [
      "0 - Logistic Regression, π = [0.5 0.1 0.9], λ = 0.0055000000000000005\n"
     ]
    },
    {
     "name": "stderr",
     "output_type": "stream",
     "text": [
      " 33%|\u001b[32m███▎      \u001b[0m| 18/55 [15:52<33:00, 53.53s/it]"
     ]
    },
    {
     "name": "stdout",
     "output_type": "stream",
     "text": [
      "0 - Logistic Regression, π = [0.5 0.1 0.9], λ = 0.007750000000000001\n"
     ]
    },
    {
     "name": "stderr",
     "output_type": "stream",
     "text": [
      " 35%|\u001b[32m███▍      \u001b[0m| 19/55 [16:44<31:53, 53.15s/it]"
     ]
    },
    {
     "name": "stdout",
     "output_type": "stream",
     "text": [
      "0 - Logistic Regression, π = [0.5 0.1 0.9], λ = 0.01\n"
     ]
    },
    {
     "name": "stderr",
     "output_type": "stream",
     "text": [
      " 36%|\u001b[32m███▋      \u001b[0m| 20/55 [17:35<30:40, 52.58s/it]"
     ]
    },
    {
     "name": "stdout",
     "output_type": "stream",
     "text": [
      "0 - Logistic Regression, π = [0.5 0.1 0.9], λ = 0.01\n"
     ]
    },
    {
     "name": "stderr",
     "output_type": "stream",
     "text": [
      " 38%|\u001b[32m███▊      \u001b[0m| 21/55 [18:27<29:38, 52.31s/it]"
     ]
    },
    {
     "name": "stdout",
     "output_type": "stream",
     "text": [
      "0 - Logistic Regression, π = [0.5 0.1 0.9], λ = 0.0325\n"
     ]
    },
    {
     "name": "stderr",
     "output_type": "stream",
     "text": [
      " 40%|\u001b[32m████      \u001b[0m| 22/55 [19:17<28:21, 51.57s/it]"
     ]
    },
    {
     "name": "stdout",
     "output_type": "stream",
     "text": [
      "0 - Logistic Regression, π = [0.5 0.1 0.9], λ = 0.05500000000000001\n"
     ]
    },
    {
     "name": "stderr",
     "output_type": "stream",
     "text": [
      " 42%|\u001b[32m████▏     \u001b[0m| 23/55 [20:08<27:26, 51.46s/it]"
     ]
    },
    {
     "name": "stdout",
     "output_type": "stream",
     "text": [
      "0 - Logistic Regression, π = [0.5 0.1 0.9], λ = 0.0775\n"
     ]
    },
    {
     "name": "stderr",
     "output_type": "stream",
     "text": [
      " 44%|\u001b[32m████▎     \u001b[0m| 24/55 [20:59<26:32, 51.36s/it]"
     ]
    },
    {
     "name": "stdout",
     "output_type": "stream",
     "text": [
      "0 - Logistic Regression, π = [0.5 0.1 0.9], λ = 0.1\n"
     ]
    },
    {
     "name": "stderr",
     "output_type": "stream",
     "text": [
      " 45%|\u001b[32m████▌     \u001b[0m| 25/55 [21:49<25:29, 50.99s/it]"
     ]
    },
    {
     "name": "stdout",
     "output_type": "stream",
     "text": [
      "0 - Logistic Regression, π = [0.5 0.1 0.9], λ = 0.1\n"
     ]
    },
    {
     "name": "stderr",
     "output_type": "stream",
     "text": [
      " 47%|\u001b[32m████▋     \u001b[0m| 26/55 [22:40<24:33, 50.80s/it]"
     ]
    },
    {
     "name": "stdout",
     "output_type": "stream",
     "text": [
      "0 - Logistic Regression, π = [0.5 0.1 0.9], λ = 0.325\n"
     ]
    },
    {
     "name": "stderr",
     "output_type": "stream",
     "text": [
      " 49%|\u001b[32m████▉     \u001b[0m| 27/55 [23:29<23:27, 50.26s/it]"
     ]
    },
    {
     "name": "stdout",
     "output_type": "stream",
     "text": [
      "0 - Logistic Regression, π = [0.5 0.1 0.9], λ = 0.55\n"
     ]
    },
    {
     "name": "stderr",
     "output_type": "stream",
     "text": [
      " 51%|\u001b[32m█████     \u001b[0m| 28/55 [24:19<22:39, 50.36s/it]"
     ]
    },
    {
     "name": "stdout",
     "output_type": "stream",
     "text": [
      "0 - Logistic Regression, π = [0.5 0.1 0.9], λ = 0.775\n"
     ]
    },
    {
     "name": "stderr",
     "output_type": "stream",
     "text": [
      " 53%|\u001b[32m█████▎    \u001b[0m| 29/55 [25:09<21:44, 50.16s/it]"
     ]
    },
    {
     "name": "stdout",
     "output_type": "stream",
     "text": [
      "0 - Logistic Regression, π = [0.5 0.1 0.9], λ = 1.0\n"
     ]
    },
    {
     "name": "stderr",
     "output_type": "stream",
     "text": [
      " 55%|\u001b[32m█████▍    \u001b[0m| 30/55 [25:58<20:44, 49.80s/it]"
     ]
    },
    {
     "name": "stdout",
     "output_type": "stream",
     "text": [
      "0 - Logistic Regression, π = [0.5 0.1 0.9], λ = 1.0\n"
     ]
    },
    {
     "name": "stderr",
     "output_type": "stream",
     "text": [
      " 56%|\u001b[32m█████▋    \u001b[0m| 31/55 [26:47<19:49, 49.54s/it]"
     ]
    },
    {
     "name": "stdout",
     "output_type": "stream",
     "text": [
      "0 - Logistic Regression, π = [0.5 0.1 0.9], λ = 3.25\n"
     ]
    },
    {
     "name": "stderr",
     "output_type": "stream",
     "text": [
      " 58%|\u001b[32m█████▊    \u001b[0m| 32/55 [27:35<18:51, 49.20s/it]"
     ]
    },
    {
     "name": "stdout",
     "output_type": "stream",
     "text": [
      "0 - Logistic Regression, π = [0.5 0.1 0.9], λ = 5.5\n"
     ]
    },
    {
     "name": "stderr",
     "output_type": "stream",
     "text": [
      " 60%|\u001b[32m██████    \u001b[0m| 33/55 [28:23<17:53, 48.80s/it]"
     ]
    },
    {
     "name": "stdout",
     "output_type": "stream",
     "text": [
      "0 - Logistic Regression, π = [0.5 0.1 0.9], λ = 7.75\n"
     ]
    },
    {
     "name": "stderr",
     "output_type": "stream",
     "text": [
      " 62%|\u001b[32m██████▏   \u001b[0m| 34/55 [29:12<17:05, 48.82s/it]"
     ]
    },
    {
     "name": "stdout",
     "output_type": "stream",
     "text": [
      "0 - Logistic Regression, π = [0.5 0.1 0.9], λ = 10.0\n"
     ]
    },
    {
     "name": "stderr",
     "output_type": "stream",
     "text": [
      " 64%|\u001b[32m██████▎   \u001b[0m| 35/55 [30:01<16:15, 48.77s/it]"
     ]
    },
    {
     "name": "stdout",
     "output_type": "stream",
     "text": [
      "0 - Logistic Regression, π = [0.5 0.1 0.9], λ = 10.0\n"
     ]
    },
    {
     "name": "stderr",
     "output_type": "stream",
     "text": [
      " 65%|\u001b[32m██████▌   \u001b[0m| 36/55 [30:47<15:13, 48.10s/it]"
     ]
    },
    {
     "name": "stdout",
     "output_type": "stream",
     "text": [
      "0 - Logistic Regression, π = [0.5 0.1 0.9], λ = 32.5\n"
     ]
    },
    {
     "name": "stderr",
     "output_type": "stream",
     "text": [
      " 67%|\u001b[32m██████▋   \u001b[0m| 37/55 [31:26<13:35, 45.30s/it]"
     ]
    },
    {
     "name": "stdout",
     "output_type": "stream",
     "text": [
      "0 - Logistic Regression, π = [0.5 0.1 0.9], λ = 55.0\n"
     ]
    },
    {
     "name": "stderr",
     "output_type": "stream",
     "text": [
      " 69%|\u001b[32m██████▉   \u001b[0m| 38/55 [32:06<12:22, 43.68s/it]"
     ]
    },
    {
     "name": "stdout",
     "output_type": "stream",
     "text": [
      "0 - Logistic Regression, π = [0.5 0.1 0.9], λ = 77.5\n"
     ]
    },
    {
     "name": "stderr",
     "output_type": "stream",
     "text": [
      " 71%|\u001b[32m███████   \u001b[0m| 39/55 [32:46<11:24, 42.77s/it]"
     ]
    },
    {
     "name": "stdout",
     "output_type": "stream",
     "text": [
      "0 - Logistic Regression, π = [0.5 0.1 0.9], λ = 100.0\n"
     ]
    },
    {
     "name": "stderr",
     "output_type": "stream",
     "text": [
      " 73%|\u001b[32m███████▎  \u001b[0m| 40/55 [33:24<10:19, 41.29s/it]"
     ]
    },
    {
     "name": "stdout",
     "output_type": "stream",
     "text": [
      "0 - Logistic Regression, π = [0.5 0.1 0.9], λ = 100.0\n"
     ]
    },
    {
     "name": "stderr",
     "output_type": "stream",
     "text": [
      " 75%|\u001b[32m███████▍  \u001b[0m| 41/55 [34:02<09:24, 40.35s/it]"
     ]
    },
    {
     "name": "stdout",
     "output_type": "stream",
     "text": [
      "0 - Logistic Regression, π = [0.5 0.1 0.9], λ = 325.0\n"
     ]
    },
    {
     "name": "stderr",
     "output_type": "stream",
     "text": [
      " 76%|\u001b[32m███████▋  \u001b[0m| 42/55 [34:41<08:35, 39.67s/it]"
     ]
    },
    {
     "name": "stdout",
     "output_type": "stream",
     "text": [
      "0 - Logistic Regression, π = [0.5 0.1 0.9], λ = 550.0\n"
     ]
    },
    {
     "name": "stderr",
     "output_type": "stream",
     "text": [
      " 78%|\u001b[32m███████▊  \u001b[0m| 43/55 [35:19<07:50, 39.23s/it]"
     ]
    },
    {
     "name": "stdout",
     "output_type": "stream",
     "text": [
      "0 - Logistic Regression, π = [0.5 0.1 0.9], λ = 775.0\n"
     ]
    },
    {
     "name": "stderr",
     "output_type": "stream",
     "text": [
      " 80%|\u001b[32m████████  \u001b[0m| 44/55 [35:58<07:10, 39.10s/it]"
     ]
    },
    {
     "name": "stdout",
     "output_type": "stream",
     "text": [
      "0 - Logistic Regression, π = [0.5 0.1 0.9], λ = 1000.0\n"
     ]
    },
    {
     "name": "stderr",
     "output_type": "stream",
     "text": [
      " 82%|\u001b[32m████████▏ \u001b[0m| 45/55 [36:35<06:26, 38.62s/it]"
     ]
    },
    {
     "name": "stdout",
     "output_type": "stream",
     "text": [
      "0 - Logistic Regression, π = [0.5 0.1 0.9], λ = 1000.0\n"
     ]
    },
    {
     "name": "stderr",
     "output_type": "stream",
     "text": [
      " 84%|\u001b[32m████████▎ \u001b[0m| 46/55 [37:13<05:45, 38.34s/it]"
     ]
    },
    {
     "name": "stdout",
     "output_type": "stream",
     "text": [
      "0 - Logistic Regression, π = [0.5 0.1 0.9], λ = 3250.0\n"
     ]
    },
    {
     "name": "stderr",
     "output_type": "stream",
     "text": [
      " 85%|\u001b[32m████████▌ \u001b[0m| 47/55 [37:50<05:04, 38.10s/it]"
     ]
    },
    {
     "name": "stdout",
     "output_type": "stream",
     "text": [
      "0 - Logistic Regression, π = [0.5 0.1 0.9], λ = 5500.0\n"
     ]
    },
    {
     "name": "stderr",
     "output_type": "stream",
     "text": [
      " 87%|\u001b[32m████████▋ \u001b[0m| 48/55 [38:28<04:25, 37.90s/it]"
     ]
    },
    {
     "name": "stdout",
     "output_type": "stream",
     "text": [
      "0 - Logistic Regression, π = [0.5 0.1 0.9], λ = 7750.0\n"
     ]
    },
    {
     "name": "stderr",
     "output_type": "stream",
     "text": [
      " 89%|\u001b[32m████████▉ \u001b[0m| 49/55 [39:05<03:46, 37.77s/it]"
     ]
    },
    {
     "name": "stdout",
     "output_type": "stream",
     "text": [
      "0 - Logistic Regression, π = [0.5 0.1 0.9], λ = 10000.0\n"
     ]
    },
    {
     "name": "stderr",
     "output_type": "stream",
     "text": [
      " 91%|\u001b[32m█████████ \u001b[0m| 50/55 [39:43<03:08, 37.67s/it]"
     ]
    },
    {
     "name": "stdout",
     "output_type": "stream",
     "text": [
      "0 - Logistic Regression, π = [0.5 0.1 0.9], λ = 10000.0\n"
     ]
    },
    {
     "name": "stderr",
     "output_type": "stream",
     "text": [
      " 93%|\u001b[32m█████████▎\u001b[0m| 51/55 [40:20<02:30, 37.66s/it]"
     ]
    },
    {
     "name": "stdout",
     "output_type": "stream",
     "text": [
      "0 - Logistic Regression, π = [0.5 0.1 0.9], λ = 32500.0\n"
     ]
    },
    {
     "name": "stderr",
     "output_type": "stream",
     "text": [
      " 95%|\u001b[32m█████████▍\u001b[0m| 52/55 [40:58<01:52, 37.62s/it]"
     ]
    },
    {
     "name": "stdout",
     "output_type": "stream",
     "text": [
      "0 - Logistic Regression, π = [0.5 0.1 0.9], λ = 55000.0\n"
     ]
    },
    {
     "name": "stderr",
     "output_type": "stream",
     "text": [
      " 96%|\u001b[32m█████████▋\u001b[0m| 53/55 [41:35<01:15, 37.63s/it]"
     ]
    },
    {
     "name": "stdout",
     "output_type": "stream",
     "text": [
      "0 - Logistic Regression, π = [0.5 0.1 0.9], λ = 77500.0\n"
     ]
    },
    {
     "name": "stderr",
     "output_type": "stream",
     "text": [
      " 98%|\u001b[32m█████████▊\u001b[0m| 54/55 [42:14<00:37, 37.92s/it]"
     ]
    },
    {
     "name": "stdout",
     "output_type": "stream",
     "text": [
      "0 - Logistic Regression, π = [0.5 0.1 0.9], λ = 100000.0\n"
     ]
    },
    {
     "name": "stderr",
     "output_type": "stream",
     "text": [
      "100%|\u001b[32m██████████\u001b[0m| 55/55 [42:53<00:00, 46.79s/it]\n",
      "  0%|\u001b[32m          \u001b[0m| 0/55 [00:00<?, ?it/s]"
     ]
    },
    {
     "name": "stdout",
     "output_type": "stream",
     "text": [
      "1 - Logistic Regression, π = [0.5 0.1 0.9], λ = 1e-06\n"
     ]
    },
    {
     "name": "stderr",
     "output_type": "stream",
     "text": [
      "  2%|\u001b[32m▏         \u001b[0m| 1/55 [00:38<34:19, 38.13s/it]"
     ]
    },
    {
     "name": "stdout",
     "output_type": "stream",
     "text": [
      "1 - Logistic Regression, π = [0.5 0.1 0.9], λ = 3.2500000000000002e-06\n"
     ]
    },
    {
     "name": "stderr",
     "output_type": "stream",
     "text": [
      "  4%|\u001b[32m▎         \u001b[0m| 2/55 [01:16<33:37, 38.07s/it]"
     ]
    },
    {
     "name": "stdout",
     "output_type": "stream",
     "text": [
      "1 - Logistic Regression, π = [0.5 0.1 0.9], λ = 5.5e-06\n"
     ]
    },
    {
     "name": "stderr",
     "output_type": "stream",
     "text": [
      "  5%|\u001b[32m▌         \u001b[0m| 3/55 [01:53<32:56, 38.01s/it]"
     ]
    },
    {
     "name": "stdout",
     "output_type": "stream",
     "text": [
      "1 - Logistic Regression, π = [0.5 0.1 0.9], λ = 7.75e-06\n"
     ]
    },
    {
     "name": "stderr",
     "output_type": "stream",
     "text": [
      "  7%|\u001b[32m▋         \u001b[0m| 4/55 [02:32<32:21, 38.07s/it]"
     ]
    },
    {
     "name": "stdout",
     "output_type": "stream",
     "text": [
      "1 - Logistic Regression, π = [0.5 0.1 0.9], λ = 1e-05\n"
     ]
    },
    {
     "name": "stderr",
     "output_type": "stream",
     "text": [
      "  9%|\u001b[32m▉         \u001b[0m| 5/55 [03:10<31:46, 38.14s/it]"
     ]
    },
    {
     "name": "stdout",
     "output_type": "stream",
     "text": [
      "1 - Logistic Regression, π = [0.5 0.1 0.9], λ = 1e-05\n"
     ]
    },
    {
     "name": "stderr",
     "output_type": "stream",
     "text": [
      " 11%|\u001b[32m█         \u001b[0m| 6/55 [03:48<31:07, 38.11s/it]"
     ]
    },
    {
     "name": "stdout",
     "output_type": "stream",
     "text": [
      "1 - Logistic Regression, π = [0.5 0.1 0.9], λ = 3.2500000000000004e-05\n"
     ]
    },
    {
     "name": "stderr",
     "output_type": "stream",
     "text": [
      " 13%|\u001b[32m█▎        \u001b[0m| 7/55 [04:26<30:26, 38.05s/it]"
     ]
    },
    {
     "name": "stdout",
     "output_type": "stream",
     "text": [
      "1 - Logistic Regression, π = [0.5 0.1 0.9], λ = 5.5e-05\n"
     ]
    },
    {
     "name": "stderr",
     "output_type": "stream",
     "text": [
      " 15%|\u001b[32m█▍        \u001b[0m| 8/55 [05:04<29:49, 38.07s/it]"
     ]
    },
    {
     "name": "stdout",
     "output_type": "stream",
     "text": [
      "1 - Logistic Regression, π = [0.5 0.1 0.9], λ = 7.75e-05\n"
     ]
    },
    {
     "name": "stderr",
     "output_type": "stream",
     "text": [
      " 16%|\u001b[32m█▋        \u001b[0m| 9/55 [05:42<29:09, 38.03s/it]"
     ]
    },
    {
     "name": "stdout",
     "output_type": "stream",
     "text": [
      "1 - Logistic Regression, π = [0.5 0.1 0.9], λ = 0.0001\n"
     ]
    },
    {
     "name": "stderr",
     "output_type": "stream",
     "text": [
      " 18%|\u001b[32m█▊        \u001b[0m| 10/55 [06:20<28:32, 38.06s/it]"
     ]
    },
    {
     "name": "stdout",
     "output_type": "stream",
     "text": [
      "1 - Logistic Regression, π = [0.5 0.1 0.9], λ = 0.0001\n"
     ]
    },
    {
     "name": "stderr",
     "output_type": "stream",
     "text": [
      " 20%|\u001b[32m██        \u001b[0m| 11/55 [06:58<27:55, 38.09s/it]"
     ]
    },
    {
     "name": "stdout",
     "output_type": "stream",
     "text": [
      "1 - Logistic Regression, π = [0.5 0.1 0.9], λ = 0.000325\n"
     ]
    },
    {
     "name": "stderr",
     "output_type": "stream",
     "text": [
      " 22%|\u001b[32m██▏       \u001b[0m| 12/55 [07:36<27:13, 37.99s/it]"
     ]
    },
    {
     "name": "stdout",
     "output_type": "stream",
     "text": [
      "1 - Logistic Regression, π = [0.5 0.1 0.9], λ = 0.00055\n"
     ]
    },
    {
     "name": "stderr",
     "output_type": "stream",
     "text": [
      " 24%|\u001b[32m██▎       \u001b[0m| 13/55 [08:14<26:34, 37.96s/it]"
     ]
    },
    {
     "name": "stdout",
     "output_type": "stream",
     "text": [
      "1 - Logistic Regression, π = [0.5 0.1 0.9], λ = 0.0007750000000000001\n"
     ]
    },
    {
     "name": "stderr",
     "output_type": "stream",
     "text": [
      " 25%|\u001b[32m██▌       \u001b[0m| 14/55 [08:52<25:53, 37.90s/it]"
     ]
    },
    {
     "name": "stdout",
     "output_type": "stream",
     "text": [
      "1 - Logistic Regression, π = [0.5 0.1 0.9], λ = 0.001\n"
     ]
    },
    {
     "name": "stderr",
     "output_type": "stream",
     "text": [
      " 27%|\u001b[32m██▋       \u001b[0m| 15/55 [09:29<25:14, 37.86s/it]"
     ]
    },
    {
     "name": "stdout",
     "output_type": "stream",
     "text": [
      "1 - Logistic Regression, π = [0.5 0.1 0.9], λ = 0.001\n"
     ]
    },
    {
     "name": "stderr",
     "output_type": "stream",
     "text": [
      " 29%|\u001b[32m██▉       \u001b[0m| 16/55 [10:07<24:34, 37.81s/it]"
     ]
    },
    {
     "name": "stdout",
     "output_type": "stream",
     "text": [
      "1 - Logistic Regression, π = [0.5 0.1 0.9], λ = 0.0032500000000000003\n"
     ]
    },
    {
     "name": "stderr",
     "output_type": "stream",
     "text": [
      " 31%|\u001b[32m███       \u001b[0m| 17/55 [10:45<23:54, 37.74s/it]"
     ]
    },
    {
     "name": "stdout",
     "output_type": "stream",
     "text": [
      "1 - Logistic Regression, π = [0.5 0.1 0.9], λ = 0.0055000000000000005\n"
     ]
    },
    {
     "name": "stderr",
     "output_type": "stream",
     "text": [
      " 33%|\u001b[32m███▎      \u001b[0m| 18/55 [11:22<23:13, 37.66s/it]"
     ]
    },
    {
     "name": "stdout",
     "output_type": "stream",
     "text": [
      "1 - Logistic Regression, π = [0.5 0.1 0.9], λ = 0.007750000000000001\n"
     ]
    },
    {
     "name": "stderr",
     "output_type": "stream",
     "text": [
      " 35%|\u001b[32m███▍      \u001b[0m| 19/55 [12:00<22:36, 37.67s/it]"
     ]
    },
    {
     "name": "stdout",
     "output_type": "stream",
     "text": [
      "1 - Logistic Regression, π = [0.5 0.1 0.9], λ = 0.01\n"
     ]
    },
    {
     "name": "stderr",
     "output_type": "stream",
     "text": [
      " 36%|\u001b[32m███▋      \u001b[0m| 20/55 [12:37<21:56, 37.61s/it]"
     ]
    },
    {
     "name": "stdout",
     "output_type": "stream",
     "text": [
      "1 - Logistic Regression, π = [0.5 0.1 0.9], λ = 0.01\n"
     ]
    },
    {
     "name": "stderr",
     "output_type": "stream",
     "text": [
      " 38%|\u001b[32m███▊      \u001b[0m| 21/55 [13:15<21:20, 37.65s/it]"
     ]
    },
    {
     "name": "stdout",
     "output_type": "stream",
     "text": [
      "1 - Logistic Regression, π = [0.5 0.1 0.9], λ = 0.0325\n"
     ]
    },
    {
     "name": "stderr",
     "output_type": "stream",
     "text": [
      " 40%|\u001b[32m████      \u001b[0m| 22/55 [13:53<20:42, 37.64s/it]"
     ]
    },
    {
     "name": "stdout",
     "output_type": "stream",
     "text": [
      "1 - Logistic Regression, π = [0.5 0.1 0.9], λ = 0.05500000000000001\n"
     ]
    },
    {
     "name": "stderr",
     "output_type": "stream",
     "text": [
      " 42%|\u001b[32m████▏     \u001b[0m| 23/55 [14:30<20:04, 37.63s/it]"
     ]
    },
    {
     "name": "stdout",
     "output_type": "stream",
     "text": [
      "1 - Logistic Regression, π = [0.5 0.1 0.9], λ = 0.0775\n"
     ]
    },
    {
     "name": "stderr",
     "output_type": "stream",
     "text": [
      " 44%|\u001b[32m████▎     \u001b[0m| 24/55 [15:08<19:24, 37.58s/it]"
     ]
    },
    {
     "name": "stdout",
     "output_type": "stream",
     "text": [
      "1 - Logistic Regression, π = [0.5 0.1 0.9], λ = 0.1\n"
     ]
    },
    {
     "name": "stderr",
     "output_type": "stream",
     "text": [
      " 45%|\u001b[32m████▌     \u001b[0m| 25/55 [15:45<18:47, 37.57s/it]"
     ]
    },
    {
     "name": "stdout",
     "output_type": "stream",
     "text": [
      "1 - Logistic Regression, π = [0.5 0.1 0.9], λ = 0.1\n"
     ]
    },
    {
     "name": "stderr",
     "output_type": "stream",
     "text": [
      " 47%|\u001b[32m████▋     \u001b[0m| 26/55 [16:23<18:08, 37.53s/it]"
     ]
    },
    {
     "name": "stdout",
     "output_type": "stream",
     "text": [
      "1 - Logistic Regression, π = [0.5 0.1 0.9], λ = 0.325\n"
     ]
    },
    {
     "name": "stderr",
     "output_type": "stream",
     "text": [
      " 49%|\u001b[32m████▉     \u001b[0m| 27/55 [17:00<17:31, 37.55s/it]"
     ]
    },
    {
     "name": "stdout",
     "output_type": "stream",
     "text": [
      "1 - Logistic Regression, π = [0.5 0.1 0.9], λ = 0.55\n"
     ]
    },
    {
     "name": "stderr",
     "output_type": "stream",
     "text": [
      " 51%|\u001b[32m█████     \u001b[0m| 28/55 [17:38<16:52, 37.51s/it]"
     ]
    },
    {
     "name": "stdout",
     "output_type": "stream",
     "text": [
      "1 - Logistic Regression, π = [0.5 0.1 0.9], λ = 0.775\n"
     ]
    },
    {
     "name": "stderr",
     "output_type": "stream",
     "text": [
      " 53%|\u001b[32m█████▎    \u001b[0m| 29/55 [18:16<16:17, 37.61s/it]"
     ]
    },
    {
     "name": "stdout",
     "output_type": "stream",
     "text": [
      "1 - Logistic Regression, π = [0.5 0.1 0.9], λ = 1.0\n"
     ]
    },
    {
     "name": "stderr",
     "output_type": "stream",
     "text": [
      " 55%|\u001b[32m█████▍    \u001b[0m| 30/55 [18:53<15:41, 37.66s/it]"
     ]
    },
    {
     "name": "stdout",
     "output_type": "stream",
     "text": [
      "1 - Logistic Regression, π = [0.5 0.1 0.9], λ = 1.0\n"
     ]
    },
    {
     "name": "stderr",
     "output_type": "stream",
     "text": [
      " 56%|\u001b[32m█████▋    \u001b[0m| 31/55 [19:31<15:03, 37.63s/it]"
     ]
    },
    {
     "name": "stdout",
     "output_type": "stream",
     "text": [
      "1 - Logistic Regression, π = [0.5 0.1 0.9], λ = 3.25\n"
     ]
    },
    {
     "name": "stderr",
     "output_type": "stream",
     "text": [
      " 58%|\u001b[32m█████▊    \u001b[0m| 32/55 [20:09<14:27, 37.72s/it]"
     ]
    },
    {
     "name": "stdout",
     "output_type": "stream",
     "text": [
      "1 - Logistic Regression, π = [0.5 0.1 0.9], λ = 5.5\n"
     ]
    },
    {
     "name": "stderr",
     "output_type": "stream",
     "text": [
      " 60%|\u001b[32m██████    \u001b[0m| 33/55 [20:47<13:51, 37.80s/it]"
     ]
    },
    {
     "name": "stdout",
     "output_type": "stream",
     "text": [
      "1 - Logistic Regression, π = [0.5 0.1 0.9], λ = 7.75\n"
     ]
    },
    {
     "name": "stderr",
     "output_type": "stream",
     "text": [
      " 62%|\u001b[32m██████▏   \u001b[0m| 34/55 [21:25<13:15, 37.90s/it]"
     ]
    },
    {
     "name": "stdout",
     "output_type": "stream",
     "text": [
      "1 - Logistic Regression, π = [0.5 0.1 0.9], λ = 10.0\n"
     ]
    },
    {
     "name": "stderr",
     "output_type": "stream",
     "text": [
      " 64%|\u001b[32m██████▎   \u001b[0m| 35/55 [22:03<12:38, 37.95s/it]"
     ]
    },
    {
     "name": "stdout",
     "output_type": "stream",
     "text": [
      "1 - Logistic Regression, π = [0.5 0.1 0.9], λ = 10.0\n"
     ]
    },
    {
     "name": "stderr",
     "output_type": "stream",
     "text": [
      " 65%|\u001b[32m██████▌   \u001b[0m| 36/55 [22:41<12:02, 38.01s/it]"
     ]
    },
    {
     "name": "stdout",
     "output_type": "stream",
     "text": [
      "1 - Logistic Regression, π = [0.5 0.1 0.9], λ = 32.5\n"
     ]
    },
    {
     "name": "stderr",
     "output_type": "stream",
     "text": [
      " 67%|\u001b[32m██████▋   \u001b[0m| 37/55 [23:19<11:23, 37.98s/it]"
     ]
    },
    {
     "name": "stdout",
     "output_type": "stream",
     "text": [
      "1 - Logistic Regression, π = [0.5 0.1 0.9], λ = 55.0\n"
     ]
    },
    {
     "name": "stderr",
     "output_type": "stream",
     "text": [
      " 69%|\u001b[32m██████▉   \u001b[0m| 38/55 [23:57<10:44, 37.91s/it]"
     ]
    },
    {
     "name": "stdout",
     "output_type": "stream",
     "text": [
      "1 - Logistic Regression, π = [0.5 0.1 0.9], λ = 77.5\n"
     ]
    },
    {
     "name": "stderr",
     "output_type": "stream",
     "text": [
      " 71%|\u001b[32m███████   \u001b[0m| 39/55 [24:34<10:05, 37.85s/it]"
     ]
    },
    {
     "name": "stdout",
     "output_type": "stream",
     "text": [
      "1 - Logistic Regression, π = [0.5 0.1 0.9], λ = 100.0\n"
     ]
    },
    {
     "name": "stderr",
     "output_type": "stream",
     "text": [
      " 73%|\u001b[32m███████▎  \u001b[0m| 40/55 [25:12<09:27, 37.82s/it]"
     ]
    },
    {
     "name": "stdout",
     "output_type": "stream",
     "text": [
      "1 - Logistic Regression, π = [0.5 0.1 0.9], λ = 100.0\n"
     ]
    },
    {
     "name": "stderr",
     "output_type": "stream",
     "text": [
      " 75%|\u001b[32m███████▍  \u001b[0m| 41/55 [25:50<08:48, 37.78s/it]"
     ]
    },
    {
     "name": "stdout",
     "output_type": "stream",
     "text": [
      "1 - Logistic Regression, π = [0.5 0.1 0.9], λ = 325.0\n"
     ]
    },
    {
     "name": "stderr",
     "output_type": "stream",
     "text": [
      " 76%|\u001b[32m███████▋  \u001b[0m| 42/55 [26:28<08:10, 37.75s/it]"
     ]
    },
    {
     "name": "stdout",
     "output_type": "stream",
     "text": [
      "1 - Logistic Regression, π = [0.5 0.1 0.9], λ = 550.0\n"
     ]
    },
    {
     "name": "stderr",
     "output_type": "stream",
     "text": [
      " 78%|\u001b[32m███████▊  \u001b[0m| 43/55 [27:05<07:33, 37.77s/it]"
     ]
    },
    {
     "name": "stdout",
     "output_type": "stream",
     "text": [
      "1 - Logistic Regression, π = [0.5 0.1 0.9], λ = 775.0\n"
     ]
    },
    {
     "name": "stderr",
     "output_type": "stream",
     "text": [
      " 80%|\u001b[32m████████  \u001b[0m| 44/55 [27:43<06:55, 37.75s/it]"
     ]
    },
    {
     "name": "stdout",
     "output_type": "stream",
     "text": [
      "1 - Logistic Regression, π = [0.5 0.1 0.9], λ = 1000.0\n"
     ]
    },
    {
     "name": "stderr",
     "output_type": "stream",
     "text": [
      " 82%|\u001b[32m████████▏ \u001b[0m| 45/55 [28:21<06:17, 37.74s/it]"
     ]
    },
    {
     "name": "stdout",
     "output_type": "stream",
     "text": [
      "1 - Logistic Regression, π = [0.5 0.1 0.9], λ = 1000.0\n"
     ]
    },
    {
     "name": "stderr",
     "output_type": "stream",
     "text": [
      " 84%|\u001b[32m████████▎ \u001b[0m| 46/55 [28:58<05:38, 37.66s/it]"
     ]
    },
    {
     "name": "stdout",
     "output_type": "stream",
     "text": [
      "1 - Logistic Regression, π = [0.5 0.1 0.9], λ = 3250.0\n"
     ]
    },
    {
     "name": "stderr",
     "output_type": "stream",
     "text": [
      " 85%|\u001b[32m████████▌ \u001b[0m| 47/55 [29:36<05:01, 37.72s/it]"
     ]
    },
    {
     "name": "stdout",
     "output_type": "stream",
     "text": [
      "1 - Logistic Regression, π = [0.5 0.1 0.9], λ = 5500.0\n"
     ]
    },
    {
     "name": "stderr",
     "output_type": "stream",
     "text": [
      " 87%|\u001b[32m████████▋ \u001b[0m| 48/55 [30:14<04:24, 37.78s/it]"
     ]
    },
    {
     "name": "stdout",
     "output_type": "stream",
     "text": [
      "1 - Logistic Regression, π = [0.5 0.1 0.9], λ = 7750.0\n"
     ]
    },
    {
     "name": "stderr",
     "output_type": "stream",
     "text": [
      " 89%|\u001b[32m████████▉ \u001b[0m| 49/55 [30:52<03:46, 37.74s/it]"
     ]
    },
    {
     "name": "stdout",
     "output_type": "stream",
     "text": [
      "1 - Logistic Regression, π = [0.5 0.1 0.9], λ = 10000.0\n"
     ]
    },
    {
     "name": "stderr",
     "output_type": "stream",
     "text": [
      " 91%|\u001b[32m█████████ \u001b[0m| 50/55 [31:30<03:08, 37.77s/it]"
     ]
    },
    {
     "name": "stdout",
     "output_type": "stream",
     "text": [
      "1 - Logistic Regression, π = [0.5 0.1 0.9], λ = 10000.0\n"
     ]
    },
    {
     "name": "stderr",
     "output_type": "stream",
     "text": [
      " 93%|\u001b[32m█████████▎\u001b[0m| 51/55 [32:07<02:31, 37.80s/it]"
     ]
    },
    {
     "name": "stdout",
     "output_type": "stream",
     "text": [
      "1 - Logistic Regression, π = [0.5 0.1 0.9], λ = 32500.0\n"
     ]
    },
    {
     "name": "stderr",
     "output_type": "stream",
     "text": [
      " 95%|\u001b[32m█████████▍\u001b[0m| 52/55 [32:45<01:53, 37.77s/it]"
     ]
    },
    {
     "name": "stdout",
     "output_type": "stream",
     "text": [
      "1 - Logistic Regression, π = [0.5 0.1 0.9], λ = 55000.0\n"
     ]
    },
    {
     "name": "stderr",
     "output_type": "stream",
     "text": [
      " 96%|\u001b[32m█████████▋\u001b[0m| 53/55 [33:23<01:15, 37.79s/it]"
     ]
    },
    {
     "name": "stdout",
     "output_type": "stream",
     "text": [
      "1 - Logistic Regression, π = [0.5 0.1 0.9], λ = 77500.0\n"
     ]
    },
    {
     "name": "stderr",
     "output_type": "stream",
     "text": [
      " 98%|\u001b[32m█████████▊\u001b[0m| 54/55 [34:01<00:37, 37.89s/it]"
     ]
    },
    {
     "name": "stdout",
     "output_type": "stream",
     "text": [
      "1 - Logistic Regression, π = [0.5 0.1 0.9], λ = 100000.0\n"
     ]
    },
    {
     "name": "stderr",
     "output_type": "stream",
     "text": [
      "100%|\u001b[32m██████████\u001b[0m| 55/55 [34:39<00:00, 37.81s/it]\n"
     ]
    },
    {
     "data": {
      "image/png": "[encoded data removed]",
      "text/plain": [
       "<Figure size 432x288 with 1 Axes>"
      ]
     },
     "metadata": {
      "needs_background": "light"
     },
     "output_type": "display_data"
    },
    {
     "data": {
      "image/png": "[encoded data removed]",
      "text/plain": [
       "<Figure size 432x288 with 1 Axes>"
      ]
     },
     "metadata": {
      "needs_background": "light"
     },
     "output_type": "display_data"
    }
   ],
   "source": [
    "#######################################################################################\n",
    "# Logistic Regression\n",
    "#######################################################################################\n",
    "\n",
    "transformers = [\n",
    "    [],\n",
    "    [Gaussianizer]\n",
    "]\n",
    "transf_args = [\n",
    "    [()],\n",
    "    [()]\n",
    "]\n",
    "\n",
    "lamb = numpy.array([10 ** i for i in range(-6, 6)])\n",
    "lamb = numpy.array([numpy.linspace(lamb[i], lamb[i + 1], 5) for i in range(lamb.shape[0] - 1)]).reshape(-1)\n",
    "llr = numpy.zeros((len(transformers), lamb.shape[0], DTE.shape[1]))\n",
    "mindcf = numpy.zeros((len(transformers), priors.shape[0], lamb.shape[0]))\n",
    "\n",
    "for t, Ts in enumerate(transformers):\n",
    "    DTrain = DTR\n",
    "    DTest = DTE\n",
    "    for i, Tc in enumerate(Ts):\n",
    "        T = Tc().fit(DTrain, *transf_args[t][i])\n",
    "        DTrain = T.transform(DTrain)\n",
    "        DTest = T.transform(DTest)\n",
    "    with tqdm(total=lamb.shape[0], colour='green') as progress:\n",
    "        for l, L in enumerate(lamb):\n",
    "            print(str(t) + \" - Logistic Regression, π = \" + str(priors) + ', λ = ' + str(L))\n",
    "            llr[t, l] = LogisticRegression(DTrain, LTR, L).llr(DTest)\n",
    "            for p, P in enumerate(priors):\n",
    "                mindcf[t, p, l] = min_DCF(llr[t, l], LTE, P, 1, 1)\n",
    "            progress.update()\n",
    "    # table = numpy.hstack((vcol(numpy.array(['Logistic Regression'])), mindcf[t].min(axis=1, initial=inf)))\n",
    "    # print(tabulate(table, headers=[\"\"] + list(priors), tablefmt='fancy_grid'))\n",
    "\n",
    "numpy.save('./data/evaluation/minDCF_LogReg_lamb', mindcf)\n",
    "mindcf_train = numpy.load('./data/minDCF_LogReg_lamb.npy')\n",
    "\n",
    "for t, Ts in enumerate(transformers):\n",
    "    plt.figure()\n",
    "    colors = ['steelblue', 'darkorange', 'g']\n",
    "    for p, P in enumerate(priors):\n",
    "        plt.plot(lamb, mindcf_train[t, 0, p], label='minDCF (π = ' + str(p) + ') [Val]', linestyle='dashed', color=colors[p])\n",
    "        plt.plot(lamb, mindcf[t, p], label='minDCF (π = ' + str(p) + ') [Eval]', color=colors[p])\n",
    "    plt.xlabel('λ')\n",
    "    plt.ylabel('min DCF')\n",
    "    plt.title('Logistic Regression')\n",
    "    plt.xscale('log')\n",
    "    plt.legend()\n",
    "    plt.grid(True)\n",
    "    plt.tight_layout()\n",
    "    plt.savefig('./plots/mindcf_eval/LogReg_lamb_' + ('Raw' if t == 0 else 'Gaussianized') + '.png')\n",
    "    plt.show()\n"
   ]
  },
  {
   "cell_type": "code",
   "execution_count": 3,
   "id": "published-sleeping",
   "metadata": {},
   "outputs": [
    {
     "name": "stderr",
     "output_type": "stream",
     "text": [
      "  0%|\u001b[32m          \u001b[0m| 0/6 [00:00<?, ?it/s]"
     ]
    },
    {
     "name": "stdout",
     "output_type": "stream",
     "text": [
      "0 - Log Reg (λ = 0), π = 0.5\n"
     ]
    },
    {
     "name": "stderr",
     "output_type": "stream",
     "text": [
      " 17%|\u001b[32m█▋        \u001b[0m| 1/6 [00:22<01:50, 22.06s/it]"
     ]
    },
    {
     "name": "stdout",
     "output_type": "stream",
     "text": [
      "0 - Log Reg (λ = 0), π = 0.1\n"
     ]
    },
    {
     "name": "stderr",
     "output_type": "stream",
     "text": [
      " 33%|\u001b[32m███▎      \u001b[0m| 2/6 [00:38<01:21, 20.35s/it]"
     ]
    },
    {
     "name": "stdout",
     "output_type": "stream",
     "text": [
      "0 - Log Reg (λ = 0), π = 0.9\n"
     ]
    },
    {
     "name": "stderr",
     "output_type": "stream",
     "text": [
      " 50%|\u001b[32m█████     \u001b[0m| 3/6 [00:54<00:57, 19.15s/it]"
     ]
    },
    {
     "name": "stdout",
     "output_type": "stream",
     "text": [
      "0 - Log Reg (λ = 0, π = 0.5), π = 0.5\n"
     ]
    },
    {
     "name": "stderr",
     "output_type": "stream",
     "text": [
      " 67%|\u001b[32m██████▋   \u001b[0m| 4/6 [01:15<00:39, 19.57s/it]"
     ]
    },
    {
     "name": "stdout",
     "output_type": "stream",
     "text": [
      "0 - Log Reg (λ = 0, π = 0.5), π = 0.1\n"
     ]
    },
    {
     "name": "stderr",
     "output_type": "stream",
     "text": [
      " 83%|\u001b[32m████████▎ \u001b[0m| 5/6 [01:31<00:18, 18.44s/it]"
     ]
    },
    {
     "name": "stdout",
     "output_type": "stream",
     "text": [
      "0 - Log Reg (λ = 0, π = 0.5), π = 0.9\n"
     ]
    },
    {
     "name": "stderr",
     "output_type": "stream",
     "text": [
      "100%|\u001b[32m██████████\u001b[0m| 6/6 [01:48<00:00, 18.02s/it]\n"
     ]
    },
    {
     "name": "stdout",
     "output_type": "stream",
     "text": [
      "╒══════════════════════════╤══════════╤══════════╤══════════╕\n",
      "│                          │      0.5 │      0.1 │      0.9 │\n",
      "╞══════════════════════════╪══════════╪══════════╪══════════╡\n",
      "│ Log Reg (λ = 0)          │ 0.110957 │ 0.198634 │ 0.53001  │\n",
      "├──────────────────────────┼──────────┼──────────┼──────────┤\n",
      "│ Log Reg (λ = 0, π = 0.5) │ 0.107197 │ 0.198516 │ 0.542453 │\n",
      "╘══════════════════════════╧══════════╧══════════╧══════════╛\n"
     ]
    },
    {
     "name": "stderr",
     "output_type": "stream",
     "text": [
      "  0%|\u001b[32m          \u001b[0m| 0/6 [00:00<?, ?it/s]"
     ]
    },
    {
     "name": "stdout",
     "output_type": "stream",
     "text": [
      "1 - Log Reg (λ = 0), π = 0.5\n"
     ]
    },
    {
     "name": "stderr",
     "output_type": "stream",
     "text": [
      " 17%|\u001b[32m█▋        \u001b[0m| 1/6 [00:17<01:26, 17.21s/it]"
     ]
    },
    {
     "name": "stdout",
     "output_type": "stream",
     "text": [
      "1 - Log Reg (λ = 0), π = 0.1\n"
     ]
    },
    {
     "name": "stderr",
     "output_type": "stream",
     "text": [
      " 33%|\u001b[32m███▎      \u001b[0m| 2/6 [00:33<01:07, 16.82s/it]"
     ]
    },
    {
     "name": "stdout",
     "output_type": "stream",
     "text": [
      "1 - Log Reg (λ = 0), π = 0.9\n"
     ]
    },
    {
     "name": "stderr",
     "output_type": "stream",
     "text": [
      " 50%|\u001b[32m█████     \u001b[0m| 3/6 [00:49<00:49, 16.55s/it]"
     ]
    },
    {
     "name": "stdout",
     "output_type": "stream",
     "text": [
      "1 - Log Reg (λ = 0, π = 0.5), π = 0.5\n"
     ]
    },
    {
     "name": "stderr",
     "output_type": "stream",
     "text": [
      " 67%|\u001b[32m██████▋   \u001b[0m| 4/6 [01:06<00:33, 16.70s/it]"
     ]
    },
    {
     "name": "stdout",
     "output_type": "stream",
     "text": [
      "1 - Log Reg (λ = 0, π = 0.5), π = 0.1\n"
     ]
    },
    {
     "name": "stderr",
     "output_type": "stream",
     "text": [
      " 83%|\u001b[32m████████▎ \u001b[0m| 5/6 [01:21<00:16, 16.46s/it]"
     ]
    },
    {
     "name": "stdout",
     "output_type": "stream",
     "text": [
      "1 - Log Reg (λ = 0, π = 0.5), π = 0.9\n"
     ]
    },
    {
     "name": "stderr",
     "output_type": "stream",
     "text": [
      "100%|\u001b[32m██████████\u001b[0m| 6/6 [01:37<00:00, 16.31s/it]"
     ]
    },
    {
     "name": "stdout",
     "output_type": "stream",
     "text": [
      "╒══════════════════════════╤══════════╤══════════╤══════════╕\n",
      "│                          │      0.5 │      0.1 │      0.9 │\n",
      "╞══════════════════════════╪══════════╪══════════╪══════════╡\n",
      "│ Log Reg (λ = 0)          │ 0.124882 │ 0.208098 │ 0.507493 │\n",
      "├──────────────────────────┼──────────┼──────────┼──────────┤\n",
      "│ Log Reg (λ = 0, π = 0.5) │ 0.121999 │ 0.214999 │ 0.484836 │\n",
      "╘══════════════════════════╧══════════╧══════════╧══════════╛\n"
     ]
    },
    {
     "name": "stderr",
     "output_type": "stream",
     "text": [
      "\n"
     ]
    }
   ],
   "source": [
    "#######################################################################################\n",
    "# Logistic Regression - λ = 0\n",
    "#######################################################################################\n",
    "\n",
    "lamb = 0\n",
    "classifier_name = numpy.array([\n",
    "    \"Log Reg (λ = \" + str(lamb) + \")\",\n",
    "    \"Log Reg (λ = \" + str(lamb) + \", π = 0.5)\",\n",
    "])\n",
    "class_prior = [None, [0.5, 0.5]]\n",
    "classifiers = numpy.array([\n",
    "    LogisticRegression,\n",
    "    LogisticRegression\n",
    "])\n",
    "transformers = [\n",
    "    [],\n",
    "    [Gaussianizer],\n",
    "]\n",
    "transf_args = [\n",
    "    [()],\n",
    "    [()],\n",
    "]\n",
    "llr = numpy.zeros((len(transformers), classifiers.shape[0], DTE.shape[1]))\n",
    "mindcf = numpy.zeros((len(transformers), classifiers.shape[0], priors.shape[0]))\n",
    "\n",
    "for t, Ts in enumerate(transformers):\n",
    "    DTrain = DTR\n",
    "    DTest = DTE\n",
    "    for i, Tc in enumerate(Ts):\n",
    "        T = Tc().fit(DTrain, *transf_args[t][i])\n",
    "        DTrain = T.transform(DTrain)\n",
    "        DTest = T.transform(DTest)\n",
    "    with tqdm(total=classifiers.shape[0] * priors.shape[0], colour='green') as progress:\n",
    "        for c, C in enumerate(classifiers):\n",
    "            llr[t, c] = LogisticRegression(DTrain, LTR, lamb=0, x0=None, prior=class_prior[c]).llr(DTest)\n",
    "            for p, P in enumerate(priors):\n",
    "                print(str(t) + \" - \" + classifier_name[c] + \", π = \" + str(P))\n",
    "                mindcf[t, c, p] = min_DCF(llr[t, c], LTE, P, 1, 1)\n",
    "                progress.update()\n",
    "    table = numpy.hstack((vcol(classifier_name), mindcf[t]))\n",
    "    print(tabulate(table, headers=[\"\"] + list(priors), tablefmt='fancy_grid'))\n",
    "\n",
    "numpy.save('./data/evaluation/minDCF_LogReg_lamb_fixed', mindcf)"
   ]
  },
  {
   "cell_type": "code",
   "execution_count": 3,
   "id": "previous-phone",
   "metadata": {},
   "outputs": [
    {
     "name": "stderr",
     "output_type": "stream",
     "text": [
      "  0%|\u001b[32m          \u001b[0m| 0/12 [00:00<?, ?it/s]"
     ]
    },
    {
     "name": "stdout",
     "output_type": "stream",
     "text": [
      "0 - Linear SVM (no class balancing) - π = [0.5 0.1 0.9]\n",
      "0 - Linear SVM (π = 0.5) - π = [0.5 0.1 0.9]\n",
      "0 - Linear SVM (no class balancing) - π = [0.5 0.1 0.9]\n",
      "0 - Linear SVM (π = 0.5) - π = [0.5 0.1 0.9]\n",
      "0 - Linear SVM (no class balancing) - π = [0.5 0.1 0.9]\n",
      "0 - Linear SVM (π = 0.5) - π = [0.5 0.1 0.9]\n",
      "0 - Linear SVM (no class balancing) - π = [0.5 0.1 0.9]\n",
      "0 - Linear SVM (π = 0.5) - π = [0.5 0.1 0.9]\n"
     ]
    },
    {
     "name": "stderr",
     "output_type": "stream",
     "text": [
      "  0%|\u001b[32m          \u001b[0m| 0/12 [19:51<?, ?it/s]\n"
     ]
    },
    {
     "data": {
      "image/png": "[encoded data removed]",
      "text/plain": [
       "<Figure size 432x288 with 1 Axes>"
      ]
     },
     "metadata": {
      "needs_background": "light"
     },
     "output_type": "display_data"
    },
    {
     "data": {
      "image/png": "[encoded data removed]",
      "text/plain": [
       "<Figure size 432x288 with 1 Axes>"
      ]
     },
     "metadata": {
      "needs_background": "light"
     },
     "output_type": "display_data"
    }
   ],
   "source": [
    "##################################################################################\n",
    "# Linear SVM\n",
    "##################################################################################\n",
    "\n",
    "classifier_name = numpy.array([\n",
    "    'Linear SVM (no class balancing)',\n",
    "    'Linear SVM (π = 0.5)'\n",
    "])\n",
    "classifiers = numpy.array([\n",
    "    LinearSVM,\n",
    "    LinearSVM\n",
    "])\n",
    "transformers = [\n",
    "    [],\n",
    "]\n",
    "transf_args = [\n",
    "    [()],\n",
    "]\n",
    "\n",
    "Ci = numpy.array([10 ** i for i in range(-3, 4, 2)])\n",
    "mindcf = numpy.zeros((len(transformers), classifiers.shape[0], priors.shape[0], Ci.shape[0]))\n",
    "llr = numpy.zeros((len(transformers), classifiers.shape[0], Ci.shape[0], DTE.shape[1]))\n",
    "\n",
    "for t, Ts in enumerate(transformers):\n",
    "    DTrain = DTR\n",
    "    DTest = DTE\n",
    "    for i, Tc in enumerate(Ts):\n",
    "        T = Tc().fit(DTrain, *transf_args[t][i])\n",
    "        DTrain = T.transform(DTrain)\n",
    "        DTest = T.transform(DTest)\n",
    "    with tqdm(total=priors.shape[0] * Ci.shape[0], colour='green') as progress:\n",
    "        for c, C in enumerate(Ci):\n",
    "            print(str(t) + \" - \" + classifier_name[0] + \" - π = \" + str(priors))\n",
    "            llr[t, 0, c] = LinearSVM(DTrain, LTR, C=C).llr(DTest)\n",
    "            print(str(t) + \" - \" + classifier_name[1] + \" - π = \" + str(priors))\n",
    "            llr[t, 1, c] = LinearSVM(DTrain, LTR, C=C, prior=0.5).llr(DTest)\n",
    "            for p, P in enumerate(priors):\n",
    "                mindcf[t, 0, p, c] = min_DCF(llr[t, 0, c], LTE, P, 1, 1)\n",
    "                mindcf[t, 1, p, c] = min_DCF(llr[t, 1, c], LTE, P, 1, 1)\n",
    "                progress.update()\n",
    "\n",
    "numpy.save('./data/evaluation/minDCF_LinearSVM_C.npy', mindcf)\n",
    "mindcf_train = numpy.load('./data/minDCF_LinearSVM_C.npy')\n",
    "\n",
    "for t, Ts in enumerate(transformers):\n",
    "    for c, C in enumerate(classifier_name):\n",
    "        plt.figure()\n",
    "        colors = ['steelblue', 'darkorange', 'g']\n",
    "        for p, P in enumerate(priors):\n",
    "            plt.plot(Ci, mindcf_train[t, c, p], label='minDCF (π = ' + str(p) + ') [Val]', linestyle='dashed', color=colors[p])\n",
    "            plt.plot(Ci, mindcf[t, c, p], label='minDCF (π = ' + str(p) + ') [Eval]', color=colors[p])\n",
    "        plt.xlabel('C')\n",
    "        plt.ylabel('min DCF')\n",
    "        plt.title(C)\n",
    "        plt.xscale('log')\n",
    "        plt.legend()\n",
    "        plt.grid(True)\n",
    "        plt.tight_layout()\n",
    "        plt.savefig('./plots/mindcf_eval/LinearSVM_C_' + ('unbalanced' if c == 0 else 'balanced') + '.png')\n",
    "        plt.show()"
   ]
  },
  {
   "cell_type": "code",
   "execution_count": 3,
   "id": "united-geometry",
   "metadata": {},
   "outputs": [
    {
     "name": "stderr",
     "output_type": "stream",
     "text": [
      "  0%|\u001b[32m          \u001b[0m| 0/3 [00:00<?, ?it/s]"
     ]
    },
    {
     "name": "stdout",
     "output_type": "stream",
     "text": [
      "0 - Linear SVM (no class balancing, C = 0.001) , π = [0.5 0.1 0.9]\n",
      "0 - Linear SVM (π = 0.5, C = 0.001), π = [0.5 0.1 0.9]\n"
     ]
    },
    {
     "name": "stderr",
     "output_type": "stream",
     "text": [
      "100%|\u001b[32m██████████\u001b[0m| 3/3 [03:16<00:00, 65.54s/it] "
     ]
    },
    {
     "name": "stdout",
     "output_type": "stream",
     "text": [
      "╒════════════════════════════════════════════╤══════════╤══════════╤══════════╕\n",
      "│                                            │      0.5 │      0.1 │      0.9 │\n",
      "╞════════════════════════════════════════════╪══════════╪══════════╪══════════╡\n",
      "│ Linear SVM (no class balancing, C = 0.001) │ 0.144415 │ 0.252542 │ 0.613803 │\n",
      "├────────────────────────────────────────────┼──────────┼──────────┼──────────┤\n",
      "│ Linear SVM (π = 0.5, C = 0.001)            │ 0.137575 │ 0.250452 │ 0.611109 │\n",
      "╘════════════════════════════════════════════╧══════════╧══════════╧══════════╛\n"
     ]
    },
    {
     "name": "stderr",
     "output_type": "stream",
     "text": [
      "\n"
     ]
    }
   ],
   "source": [
    "##################################################################################\n",
    "# Linear SVM - C = 1e-3\n",
    "##################################################################################\n",
    "\n",
    "C = 1e-3  # chosen from previous step\n",
    "classifier_name = numpy.array([\n",
    "    'Linear SVM (no class balancing, C = ' + str(C) + ') ',\n",
    "    'Linear SVM (π = 0.5, C = ' + str(C) + ')'\n",
    "])\n",
    "classifiers = numpy.array([\n",
    "    LinearSVM,\n",
    "    LinearSVM\n",
    "])\n",
    "transformers = [\n",
    "    [],\n",
    "]\n",
    "transf_args = [\n",
    "    [()],\n",
    "]\n",
    "mindcf = numpy.zeros((len(transformers), classifiers.shape[0], priors.shape[0]))\n",
    "llr = numpy.zeros((len(transformers), classifiers.shape[0], DTE.shape[1]))\n",
    "\n",
    "for t, Ts in enumerate(transformers):\n",
    "    DTrain = DTR\n",
    "    DTest = DTE\n",
    "    for i, Tc in enumerate(Ts):\n",
    "        T = Tc().fit(DTrain, *transf_args[t][i])\n",
    "        DTrain = T.transform(DTrain)\n",
    "        DTest = T.transform(DTest)\n",
    "    with tqdm(total=priors.shape[0], colour='green') as progress:\n",
    "        print(str(t) + \" - \" + classifier_name[0] + \", π = \" + str(priors))\n",
    "        llr[t, 0] = LinearSVM(DTrain, LTR, C=C).llr(DTest)\n",
    "        print(str(t) + \" - \" + classifier_name[1] + \", π = \" + str(priors))\n",
    "        llr[t, 1] = LinearSVM(DTrain, LTR, C=C, prior=0.5).llr(DTest)\n",
    "        for p, P in enumerate(priors):\n",
    "            mindcf[t, 0, p] = min_DCF(llr[t, 0], LTE, P, 1, 1)\n",
    "            mindcf[t, 1, p] = min_DCF(llr[t, 1], LTE, P, 1, 1)\n",
    "            progress.update()\n",
    "    table = numpy.hstack((vcol(classifier_name), mindcf[t]))\n",
    "    print(tabulate(table, headers=[\"\"] + list(priors), tablefmt='fancy_grid'))\n",
    "\n",
    "numpy.save('./data/evaluation/minDCF_LinearSVM_C_fixed.npy', mindcf)"
   ]
  },
  {
   "cell_type": "code",
   "execution_count": 3,
   "id": "historic-alexandria",
   "metadata": {},
   "outputs": [
    {
     "name": "stderr",
     "output_type": "stream",
     "text": [
      "  0%|\u001b[32m          \u001b[0m| 0/12 [00:00<?, ?it/s]"
     ]
    },
    {
     "name": "stdout",
     "output_type": "stream",
     "text": [
      "0 - Quadratic Kernel SVM (no class balancing) - π = [0.5 0.1 0.9]\n"
     ]
    },
    {
     "name": "stderr",
     "output_type": "stream",
     "text": [
      " 25%|\u001b[32m██▌       \u001b[0m| 3/12 [01:43<05:23, 35.97s/it]"
     ]
    },
    {
     "name": "stdout",
     "output_type": "stream",
     "text": [
      "0 - Quadratic Kernel SVM (no class balancing) - π = [0.5 0.1 0.9]\n"
     ]
    },
    {
     "name": "stderr",
     "output_type": "stream",
     "text": [
      " 50%|\u001b[32m█████     \u001b[0m| 6/12 [03:29<03:28, 34.81s/it]"
     ]
    },
    {
     "name": "stdout",
     "output_type": "stream",
     "text": [
      "0 - Quadratic Kernel SVM (no class balancing) - π = [0.5 0.1 0.9]\n"
     ]
    },
    {
     "name": "stderr",
     "output_type": "stream",
     "text": [
      " 75%|\u001b[32m███████▌  \u001b[0m| 9/12 [05:29<01:49, 36.57s/it]"
     ]
    },
    {
     "name": "stdout",
     "output_type": "stream",
     "text": [
      "0 - Quadratic Kernel SVM (no class balancing) - π = [0.5 0.1 0.9]\n"
     ]
    },
    {
     "name": "stderr",
     "output_type": "stream",
     "text": [
      "100%|\u001b[32m██████████\u001b[0m| 12/12 [07:28<00:00, 37.36s/it]\n"
     ]
    },
    {
     "data": {
      "image/png": "[encoded data removed]",
      "text/plain": [
       "<Figure size 432x288 with 1 Axes>"
      ]
     },
     "metadata": {
      "needs_background": "light"
     },
     "output_type": "display_data"
    }
   ],
   "source": [
    "##################################################################################\n",
    "# Quadratic kernel SVM\n",
    "##################################################################################\n",
    "\n",
    "classifier_name = numpy.array([\n",
    "    'Quadratic Kernel SVM (no class balancing)'\n",
    "])\n",
    "classifiers = numpy.array([\n",
    "    KernelSVM,\n",
    "])\n",
    "transformers = [\n",
    "    [],\n",
    "]\n",
    "transf_args = [\n",
    "    [()],\n",
    "]\n",
    "\n",
    "Ci = numpy.array([10 ** i for i in range(-3, 4, 2)])\n",
    "mindcf = numpy.zeros((len(transformers), priors.shape[0], Ci.shape[0]))\n",
    "llr = numpy.zeros((len(transformers), Ci.shape[0], DTE.shape[1]))\n",
    "\n",
    "for t, Ts in enumerate(transformers):\n",
    "    DTrain = DTR\n",
    "    DTest = DTE\n",
    "    for i, Tc in enumerate(Ts):\n",
    "        T = Tc().fit(DTrain, *transf_args[t][i])\n",
    "        DTrain = T.transform(DTrain)\n",
    "        DTest = T.transform(DTest)\n",
    "    with tqdm(total=priors.shape[0] * Ci.shape[0], colour='green') as progress:\n",
    "        for c, C in enumerate(Ci):\n",
    "            print(str(t) + \" - \" + classifier_name[0] + \" - π = \" + str(priors))\n",
    "            llr[t, c] = KernelSVM(DTrain, LTR, C=C, kernel='poly', kernel_args=(0, 2)).llr(DTest)\n",
    "            for p, P in enumerate(priors):\n",
    "                mindcf[t, p, c] = min_DCF(llr[t, c], LTE, P, 1, 1)\n",
    "                mindcf[t, p, c] = min_DCF(llr[t, c], LTE, P, 1, 1)\n",
    "                progress.update()\n",
    "\n",
    "numpy.save('./data/evaluation/minDCF_PolySVM_C.npy', mindcf)\n",
    "mindcf_train = numpy.load('./data/minDCF_PolySVM_C.npy')\n",
    "\n",
    "for t, Ts in enumerate(transformers):\n",
    "    plt.figure()\n",
    "    colors = ['steelblue', 'darkorange', 'g']\n",
    "    for p, P in enumerate(priors):\n",
    "        plt.plot(Ci, mindcf_train[t, p], label='minDCF (π = ' + str(P) + ') [Val]', linestyle='dashed',\n",
    "                 color=colors[p])\n",
    "        plt.plot(Ci, mindcf[t, p], label='minDCF (π = ' + str(P) + ') [Eval]', color=colors[p])\n",
    "    plt.xlabel('C')\n",
    "    plt.ylabel('min DCF')\n",
    "    plt.title(C)\n",
    "    plt.xscale('log')\n",
    "    plt.legend()\n",
    "    plt.grid(True)\n",
    "    plt.tight_layout()\n",
    "    plt.savefig('./plots/mindcf_eval/PolySVM_C.png')\n",
    "    plt.show()"
   ]
  },
  {
   "cell_type": "code",
   "execution_count": 3,
   "id": "discrete-mexico",
   "metadata": {},
   "outputs": [
    {
     "name": "stderr",
     "output_type": "stream",
     "text": [
      "  0%|\u001b[32m          \u001b[0m| 0/3 [00:00<?, ?it/s]"
     ]
    },
    {
     "name": "stdout",
     "output_type": "stream",
     "text": [
      "0 - Quadratic Kernel SVM (π = 0.5, C = 0.001) - π = [0.5 0.1 0.9]\n"
     ]
    },
    {
     "name": "stderr",
     "output_type": "stream",
     "text": [
      "100%|\u001b[32m██████████\u001b[0m| 3/3 [01:22<00:00, 27.33s/it]"
     ]
    },
    {
     "name": "stdout",
     "output_type": "stream",
     "text": [
      "╒═══════════════════════════════════════════╤══════════╤══════════╤══════════╕\n",
      "│                                           │      0.5 │      0.1 │      0.9 │\n",
      "╞═══════════════════════════════════════════╪══════════╪══════════╪══════════╡\n",
      "│ Quadratic Kernel SVM (π = 0.5, C = 0.001) │ 0.322735 │ 0.873482 │ 0.871161 │\n",
      "╘═══════════════════════════════════════════╧══════════╧══════════╧══════════╛\n"
     ]
    },
    {
     "name": "stderr",
     "output_type": "stream",
     "text": [
      "\n"
     ]
    }
   ],
   "source": [
    "##################################################################################\n",
    "# Quadratic kernel SVM - C = 1e-3\n",
    "##################################################################################\n",
    "\n",
    "C = 1e-3\n",
    "classifier_name = numpy.array([\n",
    "    'Quadratic Kernel SVM (π = 0.5, C = ' + str(C) + ')'\n",
    "])\n",
    "classifiers = numpy.array([\n",
    "    KernelSVM,\n",
    "])\n",
    "transformers = [\n",
    "    [],\n",
    "]\n",
    "transf_args = [\n",
    "    [()],\n",
    "]\n",
    "\n",
    "mindcf = numpy.zeros((len(transformers), priors.shape[0]))\n",
    "llr = numpy.zeros((len(transformers), DTE.shape[1]))\n",
    "\n",
    "for t, Ts in enumerate(transformers):\n",
    "    DTrain = DTR\n",
    "    DTest = DTE\n",
    "    for i, Tc in enumerate(Ts):\n",
    "        T = Tc().fit(DTrain, *transf_args[t][i])\n",
    "        DTrain = T.transform(DTrain)\n",
    "        DTest = T.transform(DTest)\n",
    "    with tqdm(total=priors.shape[0], colour='green') as progress:\n",
    "        print(str(t) + \" - \" + classifier_name[0] + \" - π = \" + str(priors))\n",
    "        llr[t] = KernelSVM(DTrain, LTR, C=C, kernel='poly', kernel_args=(0, 2)).llr(DTest)\n",
    "        for p, P in enumerate(priors):\n",
    "            mindcf[t, p] = min_DCF(llr[t], LTE, P, 1, 1)\n",
    "            mindcf[t, p] = min_DCF(llr[t], LTE, P, 1, 1)\n",
    "            progress.update()\n",
    "    table = numpy.hstack((vcol(classifier_name), vrow(mindcf[t])))\n",
    "    print(tabulate(table, headers=[\"\"] + list(priors), tablefmt='fancy_grid'))\n",
    "\n",
    "numpy.save('./data/evaluation/minDCF_PolySVM_C_fixed.npy', mindcf)"
   ]
  },
  {
   "cell_type": "code",
   "execution_count": 3,
   "id": "organized-editing",
   "metadata": {},
   "outputs": [
    {
     "name": "stderr",
     "output_type": "stream",
     "text": [
      "  0%|\u001b[32m          \u001b[0m| 0/21 [00:00<?, ?it/s]"
     ]
    },
    {
     "name": "stdout",
     "output_type": "stream",
     "text": [
      "0 - RBF Kernel SVM (no class balancing), π = 0.5, log(γ) = -4.0, log(C) = -3.0\n"
     ]
    },
    {
     "name": "stderr",
     "output_type": "stream",
     "text": [
      "  5%|\u001b[32m▍         \u001b[0m| 1/21 [00:22<07:31, 22.59s/it]"
     ]
    },
    {
     "name": "stdout",
     "output_type": "stream",
     "text": [
      "0 - RBF Kernel SVM (no class balancing), π = 0.5, log(γ) = -4.0, log(C) = -2.0\n"
     ]
    },
    {
     "name": "stderr",
     "output_type": "stream",
     "text": [
      " 10%|\u001b[32m▉         \u001b[0m| 2/21 [00:46<07:19, 23.11s/it]"
     ]
    },
    {
     "name": "stdout",
     "output_type": "stream",
     "text": [
      "0 - RBF Kernel SVM (no class balancing), π = 0.5, log(γ) = -4.0, log(C) = -1.0\n"
     ]
    },
    {
     "name": "stderr",
     "output_type": "stream",
     "text": [
      " 14%|\u001b[32m█▍        \u001b[0m| 3/21 [01:14<07:20, 24.46s/it]"
     ]
    },
    {
     "name": "stdout",
     "output_type": "stream",
     "text": [
      "0 - RBF Kernel SVM (no class balancing), π = 0.5, log(γ) = -4.0, log(C) = 0.0\n"
     ]
    },
    {
     "name": "stderr",
     "output_type": "stream",
     "text": [
      " 19%|\u001b[32m█▉        \u001b[0m| 4/21 [01:57<08:28, 29.91s/it]"
     ]
    },
    {
     "name": "stdout",
     "output_type": "stream",
     "text": [
      "0 - RBF Kernel SVM (no class balancing), π = 0.5, log(γ) = -4.0, log(C) = 1.0\n"
     ]
    },
    {
     "name": "stderr",
     "output_type": "stream",
     "text": [
      " 24%|\u001b[32m██▍       \u001b[0m| 5/21 [02:49<09:45, 36.61s/it]"
     ]
    },
    {
     "name": "stdout",
     "output_type": "stream",
     "text": [
      "0 - RBF Kernel SVM (no class balancing), π = 0.5, log(γ) = -4.0, log(C) = 2.0\n"
     ]
    },
    {
     "name": "stderr",
     "output_type": "stream",
     "text": [
      " 29%|\u001b[32m██▊       \u001b[0m| 6/21 [03:46<10:39, 42.61s/it]"
     ]
    },
    {
     "name": "stdout",
     "output_type": "stream",
     "text": [
      "0 - RBF Kernel SVM (no class balancing), π = 0.5, log(γ) = -4.0, log(C) = 3.0\n"
     ]
    },
    {
     "name": "stderr",
     "output_type": "stream",
     "text": [
      " 33%|\u001b[32m███▎      \u001b[0m| 7/21 [06:33<18:41, 80.12s/it]"
     ]
    },
    {
     "name": "stdout",
     "output_type": "stream",
     "text": [
      "0 - RBF Kernel SVM (no class balancing), π = 0.5, log(γ) = -3.0, log(C) = -3.0\n"
     ]
    },
    {
     "name": "stderr",
     "output_type": "stream",
     "text": [
      " 38%|\u001b[32m███▊      \u001b[0m| 8/21 [06:55<13:35, 62.77s/it]"
     ]
    },
    {
     "name": "stdout",
     "output_type": "stream",
     "text": [
      "0 - RBF Kernel SVM (no class balancing), π = 0.5, log(γ) = -3.0, log(C) = -2.0\n"
     ]
    },
    {
     "name": "stderr",
     "output_type": "stream",
     "text": [
      " 43%|\u001b[32m████▎     \u001b[0m| 9/21 [07:22<10:21, 51.82s/it]"
     ]
    },
    {
     "name": "stdout",
     "output_type": "stream",
     "text": [
      "0 - RBF Kernel SVM (no class balancing), π = 0.5, log(γ) = -3.0, log(C) = -1.0\n"
     ]
    },
    {
     "name": "stderr",
     "output_type": "stream",
     "text": [
      " 48%|\u001b[32m████▊     \u001b[0m| 10/21 [07:53<08:21, 45.56s/it]"
     ]
    },
    {
     "name": "stdout",
     "output_type": "stream",
     "text": [
      "0 - RBF Kernel SVM (no class balancing), π = 0.5, log(γ) = -3.0, log(C) = 0.0\n"
     ]
    },
    {
     "name": "stderr",
     "output_type": "stream",
     "text": [
      " 52%|\u001b[32m█████▏    \u001b[0m| 11/21 [08:35<07:25, 44.54s/it]"
     ]
    },
    {
     "name": "stdout",
     "output_type": "stream",
     "text": [
      "0 - RBF Kernel SVM (no class balancing), π = 0.5, log(γ) = -3.0, log(C) = 1.0\n"
     ]
    },
    {
     "name": "stderr",
     "output_type": "stream",
     "text": [
      " 57%|\u001b[32m█████▋    \u001b[0m| 12/21 [09:32<07:14, 48.25s/it]"
     ]
    },
    {
     "name": "stdout",
     "output_type": "stream",
     "text": [
      "0 - RBF Kernel SVM (no class balancing), π = 0.5, log(γ) = -3.0, log(C) = 2.0\n"
     ]
    },
    {
     "name": "stderr",
     "output_type": "stream",
     "text": [
      " 62%|\u001b[32m██████▏   \u001b[0m| 13/21 [11:14<08:36, 64.58s/it]"
     ]
    },
    {
     "name": "stdout",
     "output_type": "stream",
     "text": [
      "0 - RBF Kernel SVM (no class balancing), π = 0.5, log(γ) = -3.0, log(C) = 3.0\n"
     ]
    },
    {
     "name": "stderr",
     "output_type": "stream",
     "text": [
      " 67%|\u001b[32m██████▋   \u001b[0m| 14/21 [13:43<10:27, 89.65s/it]"
     ]
    },
    {
     "name": "stdout",
     "output_type": "stream",
     "text": [
      "0 - RBF Kernel SVM (no class balancing), π = 0.5, log(γ) = -2.0, log(C) = -3.0\n"
     ]
    },
    {
     "name": "stderr",
     "output_type": "stream",
     "text": [
      " 71%|\u001b[32m███████▏  \u001b[0m| 15/21 [14:14<07:13, 72.29s/it]"
     ]
    },
    {
     "name": "stdout",
     "output_type": "stream",
     "text": [
      "0 - RBF Kernel SVM (no class balancing), π = 0.5, log(γ) = -2.0, log(C) = -2.0\n"
     ]
    },
    {
     "name": "stderr",
     "output_type": "stream",
     "text": [
      " 76%|\u001b[32m███████▌  \u001b[0m| 16/21 [14:50<05:06, 61.33s/it]"
     ]
    },
    {
     "name": "stdout",
     "output_type": "stream",
     "text": [
      "0 - RBF Kernel SVM (no class balancing), π = 0.5, log(γ) = -2.0, log(C) = -1.0\n"
     ]
    },
    {
     "name": "stderr",
     "output_type": "stream",
     "text": [
      " 81%|\u001b[32m████████  \u001b[0m| 17/21 [15:32<03:42, 55.53s/it]"
     ]
    },
    {
     "name": "stdout",
     "output_type": "stream",
     "text": [
      "0 - RBF Kernel SVM (no class balancing), π = 0.5, log(γ) = -2.0, log(C) = 0.0\n"
     ]
    },
    {
     "name": "stderr",
     "output_type": "stream",
     "text": [
      " 86%|\u001b[32m████████▌ \u001b[0m| 18/21 [16:26<02:45, 55.05s/it]"
     ]
    },
    {
     "name": "stdout",
     "output_type": "stream",
     "text": [
      "0 - RBF Kernel SVM (no class balancing), π = 0.5, log(γ) = -2.0, log(C) = 1.0\n"
     ]
    },
    {
     "name": "stderr",
     "output_type": "stream",
     "text": [
      " 90%|\u001b[32m█████████ \u001b[0m| 19/21 [17:29<01:55, 57.57s/it]"
     ]
    },
    {
     "name": "stdout",
     "output_type": "stream",
     "text": [
      "0 - RBF Kernel SVM (no class balancing), π = 0.5, log(γ) = -2.0, log(C) = 2.0\n"
     ]
    },
    {
     "name": "stderr",
     "output_type": "stream",
     "text": [
      " 95%|\u001b[32m█████████▌\u001b[0m| 20/21 [18:45<01:03, 63.01s/it]"
     ]
    },
    {
     "name": "stdout",
     "output_type": "stream",
     "text": [
      "0 - RBF Kernel SVM (no class balancing), π = 0.5, log(γ) = -2.0, log(C) = 3.0\n"
     ]
    },
    {
     "name": "stderr",
     "output_type": "stream",
     "text": [
      "100%|\u001b[32m██████████\u001b[0m| 21/21 [20:39<00:00, 59.01s/it]\n"
     ]
    },
    {
     "data": {
      "image/png": "[encoded data removed]",
      "text/plain": [
       "<Figure size 432x288 with 1 Axes>"
      ]
     },
     "metadata": {
      "needs_background": "light"
     },
     "output_type": "display_data"
    }
   ],
   "source": [
    "##################################################################################\n",
    "# RBF kernel SVM\n",
    "##################################################################################\n",
    "\n",
    "classifier_name = numpy.array([\n",
    "    'RBF Kernel SVM (no class balancing)'\n",
    "])\n",
    "classifiers = numpy.array([\n",
    "    KernelSVM,\n",
    "])\n",
    "transformers = [\n",
    "    [],\n",
    "]\n",
    "transf_args = [\n",
    "    [()],\n",
    "]\n",
    "\n",
    "Ci = numpy.array([10 ** i for i in range(-3, 4)])\n",
    "gamma_i = numpy.array([10 ** i for i in range(-4, -1)])\n",
    "\n",
    "mindcf = numpy.zeros((len(transformers), gamma_i.shape[0], Ci.shape[0]))\n",
    "llr = numpy.zeros((len(transformers), gamma_i.shape[0], Ci.shape[0], DTE.shape[1]))\n",
    "\n",
    "for t, Ts in enumerate(transformers):\n",
    "    DTrain = DTR\n",
    "    DTest = DTE\n",
    "    for i, Tc in enumerate(Ts):\n",
    "        T = Tc().fit(DTrain, *transf_args[t][i])\n",
    "        DTrain = T.transform(DTrain)\n",
    "        DTest = T.transform(DTest)\n",
    "    with tqdm(total=gamma_i.shape[0] * Ci.shape[0], colour='green') as progress:\n",
    "        for g, gamma in enumerate(gamma_i):\n",
    "            for c, C in enumerate(Ci):\n",
    "                print(str(t) + \" - \" + classifier_name[0] + \", π = 0.5, log(γ) = \" + str(numpy.log10(gamma)) + \", log(C) = \" + str(numpy.log10(C)))\n",
    "                llr[t, g, c] = KernelSVM(DTrain, LTR, C=C, kernel='rbf', kernel_args=(gamma,)).llr(DTest)\n",
    "                mindcf[t, g, c] = min_DCF(llr[t, g, c], LTE, 0.5, 1, 1)\n",
    "                progress.update()\n",
    "\n",
    "numpy.save('./data/evaluation/minDCF_RBF_SVM_C_gamma.npy', mindcf)\n",
    "mindcf_train = numpy.load('./data/minDCF_RBF_SVM_C_gamma.npy')\n",
    "\n",
    "for t, T in enumerate(transformers):\n",
    "    plt.figure()\n",
    "    colors = ['steelblue', 'darkorange', 'g']\n",
    "    for g, gamma in enumerate(gamma_i):\n",
    "        plt.plot(Ci, mindcf[t, g], label='log(γ) = ' + str(numpy.log10(gamma)) + ' [Eval]', color=colors[g])\n",
    "        plt.plot(Ci, mindcf_train[t, 0, 0, g], label='log(γ) = ' + str(numpy.log10(gamma)) + ' [Val]', linestyle='dashed', color=colors[g])\n",
    "    plt.xlabel('C')\n",
    "    plt.ylabel('min DCF')\n",
    "    plt.legend()\n",
    "    plt.grid(True)\n",
    "    plt.xscale('log')\n",
    "    plt.tight_layout()\n",
    "    plt.savefig('./plots/mindcf_eval/RBF_SVM_C_gamma.png')\n",
    "    plt.show()"
   ]
  },
  {
   "cell_type": "code",
   "execution_count": 4,
   "id": "ranking-oxford",
   "metadata": {},
   "outputs": [
    {
     "name": "stderr",
     "output_type": "stream",
     "text": [
      "  0%|\u001b[32m          \u001b[0m| 0/12 [00:00<?, ?it/s]"
     ]
    },
    {
     "name": "stdout",
     "output_type": "stream",
     "text": [
      "RBF Kernel SVM (no class balancing), π = [0.5 0.1 0.9], log(γ) = -4.0, log(C) = 2.0\n",
      "RBF Kernel SVM (π = 0.5, log(C) = 2.0, log(γ) = -4.0), π = [0.5 0.1 0.9], log(γ) = -4.0, log(C) = 2.0\n",
      "RBF Kernel SVM (π = 0.1, log(C) = 2.0, log(γ) = -4.0), π = [0.5 0.1 0.9], log(γ) = -4.0, log(C) = 2.0\n",
      "RBF Kernel SVM (π = 0.9, log(C) = 2.0, log(γ) = -4.0), π = [0.5 0.1 0.9], log(γ) = -4.0, log(C) = 2.0\n"
     ]
    },
    {
     "name": "stderr",
     "output_type": "stream",
     "text": [
      "  0%|\u001b[32m          \u001b[0m| 0/12 [14:40<?, ?it/s]\n"
     ]
    },
    {
     "name": "stdout",
     "output_type": "stream",
     "text": [
      "╒═══════════════════════════════════════════════════════╤══════════╤══════════╤══════════╕\n",
      "│                                                       │      0.5 │      0.1 │      0.9 │\n",
      "╞═══════════════════════════════════════════════════════╪══════════╪══════════╪══════════╡\n",
      "│ RBF Kernel SVM (no class balancing)                   │ 0.120864 │ 0.206481 │ 0.745608 │\n",
      "├───────────────────────────────────────────────────────┼──────────┼──────────┼──────────┤\n",
      "│ RBF Kernel SVM (π = 0.5, log(C) = 2.0, log(γ) = -4.0) │ 0.118055 │ 0.219337 │ 0.521427 │\n",
      "├───────────────────────────────────────────────────────┼──────────┼──────────┼──────────┤\n",
      "│ RBF Kernel SVM (π = 0.1, log(C) = 2.0, log(γ) = -4.0) │ 0.113516 │ 0.211411 │ 0.648505 │\n",
      "├───────────────────────────────────────────────────────┼──────────┼──────────┼──────────┤\n",
      "│ RBF Kernel SVM (π = 0.9, log(C) = 2.0, log(γ) = -4.0) │ 0.154773 │ 0.35866  │ 0.60332  │\n",
      "╘═══════════════════════════════════════════════════════╧══════════╧══════════╧══════════╛\n"
     ]
    },
    {
     "name": "stderr",
     "output_type": "stream",
     "text": [
      "  0%|\u001b[32m          \u001b[0m| 0/12 [00:00<?, ?it/s]"
     ]
    },
    {
     "name": "stdout",
     "output_type": "stream",
     "text": [
      "RBF Kernel SVM (no class balancing), π = [0.5 0.1 0.9], log(γ) = -4.0, log(C) = 2.0\n",
      "RBF Kernel SVM (π = 0.5, log(C) = 2.0, log(γ) = -4.0), π = [0.5 0.1 0.9], log(γ) = -4.0, log(C) = 2.0\n",
      "RBF Kernel SVM (π = 0.1, log(C) = 2.0, log(γ) = -4.0), π = [0.5 0.1 0.9], log(γ) = -4.0, log(C) = 2.0\n",
      "RBF Kernel SVM (π = 0.9, log(C) = 2.0, log(γ) = -4.0), π = [0.5 0.1 0.9], log(γ) = -4.0, log(C) = 2.0\n"
     ]
    },
    {
     "name": "stderr",
     "output_type": "stream",
     "text": [
      "  0%|\u001b[32m          \u001b[0m| 0/12 [04:31<?, ?it/s]"
     ]
    },
    {
     "name": "stdout",
     "output_type": "stream",
     "text": [
      "╒═══════════════════════════════════════════════════════╤══════════╤══════════╤══════════╕\n",
      "│                                                       │      0.5 │      0.1 │      0.9 │\n",
      "╞═══════════════════════════════════════════════════════╪══════════╪══════════╪══════════╡\n",
      "│ RBF Kernel SVM (no class balancing)                   │ 0.348777 │ 0.970777 │ 0.655852 │\n",
      "├───────────────────────────────────────────────────────┼──────────┼──────────┼──────────┤\n",
      "│ RBF Kernel SVM (π = 0.5, log(C) = 2.0, log(γ) = -4.0) │ 0.318242 │ 0.966636 │ 0.650248 │\n",
      "├───────────────────────────────────────────────────────┼──────────┼──────────┼──────────┤\n",
      "│ RBF Kernel SVM (π = 0.1, log(C) = 2.0, log(γ) = -4.0) │ 0.134417 │ 0.231207 │ 0.488929 │\n",
      "├───────────────────────────────────────────────────────┼──────────┼──────────┼──────────┤\n",
      "│ RBF Kernel SVM (π = 0.9, log(C) = 2.0, log(γ) = -4.0) │ 0.13251  │ 0.253094 │ 0.506405 │\n",
      "╘═══════════════════════════════════════════════════════╧══════════╧══════════╧══════════╛\n"
     ]
    },
    {
     "name": "stderr",
     "output_type": "stream",
     "text": [
      "\n"
     ]
    }
   ],
   "source": [
    "##################################################################################\n",
    "# RBF kernel SVM - log(γ) = -4, log(C) = 2\n",
    "##################################################################################\n",
    "\n",
    "C = 1e2\n",
    "gamma = 1e-4\n",
    "classifier_name = numpy.array([\n",
    "    'RBF Kernel SVM (no class balancing)',\n",
    "    'RBF Kernel SVM (π = 0.5, log(C) = ' + str(numpy.log10(C)) + ', log(γ) = ' + str(numpy.log10(gamma)) + ')',\n",
    "    'RBF Kernel SVM (π = 0.1, log(C) = ' + str(numpy.log10(C)) + ', log(γ) = ' + str(numpy.log10(gamma)) + ')',\n",
    "    'RBF Kernel SVM (π = 0.9, log(C) = ' + str(numpy.log10(C)) + ', log(γ) = ' + str(numpy.log10(gamma)) + ')',\n",
    "])\n",
    "class_prior = numpy.array([0.5, 0.1, 0.9])\n",
    "classifiers = numpy.array([\n",
    "    KernelSVM,\n",
    "    KernelSVM,\n",
    "    KernelSVM,\n",
    "    KernelSVM,\n",
    "])\n",
    "transformers = [\n",
    "    [], [Gaussianizer]\n",
    "]\n",
    "transf_args = [\n",
    "    [()], [()],\n",
    "]\n",
    "mindcf = numpy.zeros((len(transformers), classifiers.shape[0], priors.shape[0]))\n",
    "llr = numpy.zeros((len(transformers), classifiers.shape[0], DTE.shape[1]))\n",
    "\n",
    "for t, Ts in enumerate(transformers):\n",
    "    DTrain = DTR\n",
    "    DTest = DTE\n",
    "    for i, Tc in enumerate(Ts):\n",
    "        T = Tc().fit(DTrain, *transf_args[t][i])\n",
    "        DTrain = T.transform(DTrain)\n",
    "        DTest = T.transform(DTest)\n",
    "    with tqdm(total=classifiers.shape[0] * priors.shape[0], colour='green') as progress:\n",
    "        for c in range(classifiers.shape[0]):\n",
    "            print(classifier_name[c] + \", π = \" + str(priors) + \", log(γ) = \" + str(numpy.log10(gamma)) + \", log(C) = \" + str(numpy.log10(C)))\n",
    "            llr[t, c] = KernelSVM(DTrain, LTR, C=C, prior=(class_prior[c - 1] if c > 0 else None), kernel='rbf', kernel_args=(gamma,)).llr(DTest)\n",
    "            for p, P in enumerate(priors):\n",
    "                mindcf[t, c, p] = min_DCF(llr[t, c], LTE, P, 1, 1)\n",
    "    table = numpy.hstack((vcol(classifier_name), mindcf[t]))\n",
    "    print(tabulate(table, headers=[\"\"] + list(priors), tablefmt='fancy_grid'))\n",
    "\n",
    "numpy.save('./data/evaluation/minDCF_RBF_SVM_C_gamma_fixed.npy', mindcf)"
   ]
  },
  {
   "cell_type": "code",
   "execution_count": 3,
   "id": "brilliant-stationery",
   "metadata": {},
   "outputs": [
    {
     "name": "stderr",
     "output_type": "stream",
     "text": [
      "  0%|\u001b[32m          \u001b[0m| 0/4 [00:00<?, ?it/s]"
     ]
    },
    {
     "name": "stdout",
     "output_type": "stream",
     "text": [
      "0 - GMM Full cov, π = 0.5\n",
      "starting LBG_and_EM\n",
      "end\n",
      "starting LBG_and_EM\n",
      "end\n",
      "0 - GMM Diag cov, π = 0.5\n",
      "starting LBG_and_EM\n",
      "end\n",
      "starting LBG_and_EM\n",
      "end\n",
      "0 - GMM Tied Full cov, π = 0.5\n",
      "starting LBG_and_EM\n",
      "end\n",
      "starting LBG_and_EM\n",
      "end\n",
      "0 - GMM Tied Diag cov, π = 0.5\n",
      "starting LBG_and_EM\n",
      "end\n",
      "starting LBG_and_EM\n",
      "end\n"
     ]
    },
    {
     "name": "stderr",
     "output_type": "stream",
     "text": [
      "  0%|\u001b[32m          \u001b[0m| 0/4 [1:26:07<?, ?it/s]\n",
      "  0%|\u001b[32m          \u001b[0m| 0/4 [00:00<?, ?it/s]"
     ]
    },
    {
     "name": "stdout",
     "output_type": "stream",
     "text": [
      "1 - GMM Full cov, π = 0.5\n",
      "starting LBG_and_EM\n",
      "end\n",
      "starting LBG_and_EM\n",
      "end\n",
      "1 - GMM Diag cov, π = 0.5\n",
      "starting LBG_and_EM\n",
      "end\n",
      "starting LBG_and_EM\n",
      "end\n",
      "1 - GMM Tied Full cov, π = 0.5\n",
      "starting LBG_and_EM\n",
      "end\n",
      "starting LBG_and_EM\n",
      "end\n",
      "1 - GMM Tied Diag cov, π = 0.5\n",
      "starting LBG_and_EM\n",
      "end\n",
      "starting LBG_and_EM\n",
      "end\n"
     ]
    },
    {
     "name": "stderr",
     "output_type": "stream",
     "text": [
      "  0%|\u001b[32m          \u001b[0m| 0/4 [1:33:28<?, ?it/s]\n"
     ]
    },
    {
     "data": {
      "image/png": "[encoded data removed]",
      "text/plain": [
       "<Figure size 432x288 with 1 Axes>"
      ]
     },
     "metadata": {
      "needs_background": "light"
     },
     "output_type": "display_data"
    },
    {
     "data": {
      "image/png": "[encoded data removed]",
      "text/plain": [
       "<Figure size 432x288 with 1 Axes>"
      ]
     },
     "metadata": {
      "needs_background": "light"
     },
     "output_type": "display_data"
    },
    {
     "data": {
      "image/png": "[encoded data removed]",
      "text/plain": [
       "<Figure size 432x288 with 1 Axes>"
      ]
     },
     "metadata": {
      "needs_background": "light"
     },
     "output_type": "display_data"
    },
    {
     "data": {
      "image/png": "[encoded data removed]",
      "text/plain": [
       "<Figure size 432x288 with 1 Axes>"
      ]
     },
     "metadata": {
      "needs_background": "light"
     },
     "output_type": "display_data"
    }
   ],
   "source": [
    "######################################################################################\n",
    "# GMM\n",
    "######################################################################################\n",
    "\n",
    "classifier_name = numpy.array([\n",
    "    'GMM Full cov',\n",
    "    'GMM Diag cov',\n",
    "    'GMM Tied Full cov',\n",
    "    'GMM Tied Diag cov'\n",
    "])\n",
    "classifiers = numpy.array([\n",
    "    GaussianMixtureModel,\n",
    "    GaussianMixtureModel,\n",
    "    GaussianMixtureModel,\n",
    "    GaussianMixtureModel,\n",
    "])\n",
    "n_g_max = 64\n",
    "n_g = numpy.array([2 ** i for i in range(int(numpy.log2(n_g_max)) + 1)])\n",
    "\n",
    "prior = 0.5\n",
    "transformers = [\n",
    "    [],\n",
    "    [Gaussianizer],\n",
    "]\n",
    "transf_args = [\n",
    "    [()],\n",
    "    [()],\n",
    "]\n",
    "mindcf = numpy.zeros((len(transformers), classifiers.shape[0], n_g.shape[0]))\n",
    "llr = numpy.zeros((len(transformers), classifiers.shape[0], n_g.shape[0], DTE.shape[1]))\n",
    "\n",
    "for t, Ts in enumerate(transformers):\n",
    "    DTrain = DTR\n",
    "    DTest = DTE\n",
    "    for i, Tc in enumerate(Ts):\n",
    "        T = Tc().fit(DTrain, *transf_args[t][i])\n",
    "        DTrain = T.transform(DTrain)\n",
    "        DTest = T.transform(DTest)\n",
    "    with tqdm(total=classifiers.shape[0], colour='green') as progress:\n",
    "        for c in range(classifiers.shape[0]):\n",
    "            print(str(t) + \" - \" + classifier_name[c] + \", π = \" + str(prior))\n",
    "            C = GaussianMixtureModel(DTrain, LTR, c == 1 or c == 3, c == 2 or c == 3, n_g_max)\n",
    "            for g, n_g_i in enumerate(n_g):\n",
    "                llr[t, c, g] = C.llr(DTest, n_g_i)\n",
    "                mindcf[t, c, g] = min_DCF(llr[t, c, g], LTE, prior, 1, 1)\n",
    "\n",
    "numpy.save('./data/evaluation/minDCF_GMM_n_g.npy', mindcf)\n",
    "mindcf_train = numpy.load('./data/minDCF_GMM_n_g.npy')\n",
    "\n",
    "colors = ['steelblue', 'darkorange']\n",
    "for c in range(classifiers.shape[0]):\n",
    "    plt.figure()\n",
    "    for t in range(len(transformers)):\n",
    "        name = 'Raw' if t == 0 else 'Gaussianized'\n",
    "        plt.plot(numpy.log2(n_g), mindcf[t, c], label='minDCF (π = ' + str(prior) + '), ' + name + ' [Eval]', color=colors[t])\n",
    "        plt.plot(numpy.log2(n_g), mindcf_train[t, c], label='minDCF (π = ' + str(prior) + '), ' + name + ' [Val]', color=colors[t], linestyle='dashed')\n",
    "        plt.xlabel('GMM components')\n",
    "        plt.ylabel('min DCF')\n",
    "        plt.legend()\n",
    "        plt.grid(True)\n",
    "        plt.title(classifier_name[c])\n",
    "        plt.xticks(numpy.log2(n_g), n_g)\n",
    "        plt.tight_layout()\n",
    "        plt.savefig('./plots/mindcf_eval/GMM_' + classifier_name[c] + '_n_g.png')\n",
    "    plt.show()"
   ]
  },
  {
   "cell_type": "code",
   "execution_count": 4,
   "id": "together-cosmetic",
   "metadata": {},
   "outputs": [
    {
     "name": "stdout",
     "output_type": "stream",
     "text": [
      "START\n",
      "DONE\n"
     ]
    }
   ],
   "source": [
    "print(\"START\")\n",
    "llr_tied_full_train = TiedCovarianceGaussianClassifier(DTR, LTR).llr(DTR)\n",
    "llr_LogReg_train = LogisticRegression(DTR, LTR, lamb=0).llr(DTR)\n",
    "llr_tied_full = TiedCovarianceGaussianClassifier(DTR, LTR).llr(DTE)\n",
    "llr_LogReg = LogisticRegression(DTR, LTR, lamb=0).llr(DTE)\n",
    "print(\"DONE\")"
   ]
  },
  {
   "cell_type": "code",
   "execution_count": 5,
   "id": "accredited-magnet",
   "metadata": {},
   "outputs": [
    {
     "name": "stderr",
     "output_type": "stream",
     "text": [
      "100%|██████████| 8969/8969 [00:16<00:00, 552.11it/s]\n",
      "100%|██████████| 8969/8969 [00:16<00:00, 531.34it/s]\n"
     ]
    },
    {
     "data": {
      "image/png": "[encoded data removed]",
      "text/plain": [
       "<Figure size 432x288 with 1 Axes>"
      ]
     },
     "metadata": {
      "needs_background": "light"
     },
     "output_type": "display_data"
    }
   ],
   "source": [
    "##################################################################\n",
    "# Bayes error plots\n",
    "##################################################################\n",
    "\n",
    "scores_tied = numpy.sort(llr_tied_full)\n",
    "FPR_arr_tied = []\n",
    "TPR_arr_tied = []\n",
    "for threshold in tqdm(scores_tied):\n",
    "    predicted = 0 + (llr_tied_full > threshold)\n",
    "    confusion_matrix_roc = compute_confusion_matrix(LTE, predicted)\n",
    "    FNR = confusion_matrix_roc[0, 1] / sum(confusion_matrix_roc[:, 1])\n",
    "    FPR = confusion_matrix_roc[1, 0] / sum(confusion_matrix_roc[:, 0])\n",
    "    TPR = 1 - FNR\n",
    "    FPR_arr_tied.append(FPR)\n",
    "    TPR_arr_tied.append(TPR)\n",
    "\n",
    "scores_logreg = numpy.sort(llr_LogReg)\n",
    "FPR_arr_logreg = []\n",
    "TPR_arr_logreg = []\n",
    "for threshold in tqdm(scores_logreg):\n",
    "    predicted = 0 + (llr_LogReg > threshold)\n",
    "    confusion_matrix_roc = compute_confusion_matrix(LTE, predicted)\n",
    "    FNR = confusion_matrix_roc[0, 1] / sum(confusion_matrix_roc[:, 1])\n",
    "    FPR = confusion_matrix_roc[1, 0] / sum(confusion_matrix_roc[:, 0])\n",
    "    TPR = 1 - FNR\n",
    "    FPR_arr_logreg.append(FPR)\n",
    "    TPR_arr_logreg.append(TPR)\n",
    "\n",
    "plt.figure()\n",
    "plt.grid(True)\n",
    "plt.plot(FPR_arr_tied, TPR_arr_tied, label='Tied Full-Cov')\n",
    "plt.plot(FPR_arr_logreg, TPR_arr_logreg, label='Logistic Regression (λ = 0)')\n",
    "plt.legend()\n",
    "plt.xlabel(\"FPR\")\n",
    "plt.ylabel(\"TPR\")\n",
    "plt.show()"
   ]
  },
  {
   "cell_type": "code",
   "execution_count": 6,
   "id": "stupid-triumph",
   "metadata": {},
   "outputs": [
    {
     "name": "stderr",
     "output_type": "stream",
     "text": [
      "100%|██████████| 21/21 [11:09<00:00, 31.87s/it]\n"
     ]
    },
    {
     "data": {
      "image/png": "[encoded data removed]",
      "text/plain": [
       "<Figure size 432x288 with 1 Axes>"
      ]
     },
     "metadata": {
      "needs_background": "light"
     },
     "output_type": "display_data"
    }
   ],
   "source": [
    "##################################################################\n",
    "# Bayes error plots\n",
    "##################################################################\n",
    "\n",
    "effPriorLogOdds = numpy.linspace(-3, 3, 21)\n",
    "p_arr = 1 / (1 + numpy.exp(-effPriorLogOdds))\n",
    "dcf_tied = []\n",
    "mindcf_tied = []\n",
    "dcf_logreg = []\n",
    "mindcf_logreg = []\n",
    "for i in tqdm(range(len(p_arr))):\n",
    "    predicted_tied = optimal_binary_bayes_decisions(p_arr[i], 1, 1, llr_tied_full)\n",
    "    confusion_matrix = compute_confusion_matrix(LTE, predicted_tied)\n",
    "    dcf_tied.append(DCF(p_arr[i], 1, 1, confusion_matrix))\n",
    "    mindcf_tied.append(min_DCF(llr_tied_full, LTE, p_arr[i], 1, 1))\n",
    "\n",
    "    predicted_logreg = optimal_binary_bayes_decisions(p_arr[i], 1, 1, llr_LogReg)\n",
    "    confusion_matrix = compute_confusion_matrix(LTE, predicted_logreg)\n",
    "    dcf_logreg.append(DCF(p_arr[i], 1, 1, confusion_matrix))\n",
    "    mindcf_logreg.append(min_DCF(llr_LogReg, LTE, p_arr[i], 1, 1))\n",
    "\n",
    "plt.figure()\n",
    "plt.grid(True)\n",
    "plt.plot(effPriorLogOdds, dcf_tied, label='act DCF - Tied Full-Cov', color='r')\n",
    "plt.plot(effPriorLogOdds, mindcf_tied, label='min DCF - Tied Full-Cov', color='r', linestyle='dashed')\n",
    "plt.plot(effPriorLogOdds, dcf_logreg, label='act DCF - Logistic Regression (λ = 0)', color='b')\n",
    "plt.plot(effPriorLogOdds, mindcf_logreg, label='min DCF - Logistic Regression (λ = 0)', color='b',\n",
    "         linestyle='dashed')\n",
    "plt.legend()\n",
    "plt.ylim([0, 1.1])\n",
    "plt.xlim([-3, 3])\n",
    "plt.show()"
   ]
  },
  {
   "cell_type": "code",
   "execution_count": 5,
   "id": "preceding-thread",
   "metadata": {},
   "outputs": [
    {
     "name": "stderr",
     "output_type": "stream",
     "text": [
      "/opt/anaconda3/envs/bigdatalab_cpu_202101/lib/python3.7/site-packages/ipykernel_launcher.py:6: RuntimeWarning: divide by zero encountered in true_divide\n",
      "  \n",
      "100%|██████████| 21/21 [21:52<00:00, 62.49s/it]\n"
     ]
    },
    {
     "data": {
      "image/png": "[encoded data removed]",
      "text/plain": [
       "<Figure size 432x288 with 1 Axes>"
      ]
     },
     "metadata": {
      "needs_background": "light"
     },
     "output_type": "display_data"
    }
   ],
   "source": [
    "##################################################################\n",
    "# Bayes error plots - Optimal threshold\n",
    "##################################################################\n",
    "\n",
    "effPriorLogOdds = numpy.linspace(-3, 3, 21)\n",
    "p_arr = 1 / (1 + numpy.exp(-effPriorLogOdds))\n",
    "dcf_tied = []\n",
    "mindcf_tied = []\n",
    "dcf_logreg = []\n",
    "mindcf_logreg = []\n",
    "for i in tqdm(range(len(p_arr))):\n",
    "    _, threshold = min_DCF(llr_tied_full_train, LTR, p_arr[i], 1, 1, returnThreshold=True)\n",
    "    predicted = optimal_binary_bayes_decisions(threshold, 1, 1, llr_tied_full, useThreshold=True)\n",
    "    confusion_matrix = compute_confusion_matrix(LTE, predicted)\n",
    "    mindcf_tied.append(min_DCF(llr_tied_full, LTE, p_arr[i], 1, 1))\n",
    "    dcf_tied.append(DCF(p_arr[i], 1, 1, confusion_matrix))\n",
    "\n",
    "    _, threshold = min_DCF(llr_LogReg_train, LTR, p_arr[i], 1, 1, returnThreshold=True)\n",
    "    predicted = optimal_binary_bayes_decisions(threshold, 1, 1, llr_LogReg, useThreshold=True)\n",
    "    confusion_matrix = compute_confusion_matrix(LTE, predicted)\n",
    "    mindcf_logreg.append(min_DCF(llr_LogReg, LTE, p_arr[i], 1, 1))\n",
    "    dcf_logreg.append(DCF(p_arr[i], 1, 1, confusion_matrix))\n",
    "\n",
    "plt.figure()\n",
    "plt.grid(True)\n",
    "plt.plot(effPriorLogOdds, dcf_tied, label='act DCF - Tied Full-Cov', color='r')\n",
    "plt.plot(effPriorLogOdds, mindcf_tied, label='min DCF - Tied Full-Cov', color='r', linestyle='dashed')\n",
    "plt.plot(effPriorLogOdds, dcf_logreg, label='act DCF - Logistic Regression (λ = 0)', color='b')\n",
    "plt.plot(effPriorLogOdds, mindcf_logreg, label='min DCF - Logistic Regression (λ = 0)', color='b',\n",
    "         linestyle='dashed')\n",
    "plt.legend()\n",
    "plt.ylim([0, 1.1])\n",
    "plt.xlim([-3, 3])\n",
    "plt.show()\n"
   ]
  },
  {
   "cell_type": "code",
   "execution_count": null,
   "id": "warming-ordering",
   "metadata": {},
   "outputs": [],
   "source": []
  }
 ],
 "metadata": {
  "kernelspec": {
   "display_name": "Python 3",
   "language": "python",
   "name": "python3"
  },
  "language_info": {
   "codemirror_mode": {
    "name": "ipython",
    "version": 3
   },
   "file_extension": ".py",
   "mimetype": "text/x-python",
   "name": "python",
   "nbconvert_exporter": "python",
   "pygments_lexer": "ipython3",
   "version": "3.7.9"
  }
 },
 "nbformat": 4,
 "nbformat_minor": 5
}
